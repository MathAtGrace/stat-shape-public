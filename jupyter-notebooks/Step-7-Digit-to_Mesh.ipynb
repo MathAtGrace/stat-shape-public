{
 "cells": [
  {
   "cell_type": "code",
   "execution_count": 1,
   "id": "bac16716-cc58-4719-91ab-c02847caa180",
   "metadata": {},
   "outputs": [],
   "source": [
    "import matplotlib.pyplot as plt\n",
    "import scipy as sp\n",
    "import numpy as np\n",
    "import os\n",
    "import pandas as pd\n",
    "\n",
    "from skimage import morphology, measure\n",
    "from skimage.segmentation import expand_labels, watershed, relabel_sequential\n",
    "from sklearn.preprocessing import minmax_scale\n",
    "from scipy import ndimage as ndi\n",
    "from dask_ml.cluster import KMeans\n",
    "from dask_ml.decomposition import PCA\n",
    "\n",
    "from dask_image import imread\n",
    "from dask_image import ndmeasure\n",
    "from dask_image import ndfilters\n",
    "from dask import array as da\n",
    "from dask import delayed\n",
    "from dask.distributed import Client, progress\n",
    "from colorsys import hls_to_rgb\n",
    "\n",
    "import napari"
   ]
  },
  {
   "cell_type": "code",
   "execution_count": 2,
   "id": "e0e777f4-1a25-4df9-b782-78db6c981c29",
   "metadata": {},
   "outputs": [
    {
     "data": {
      "text/html": [
       "<div>\n",
       "    <div style=\"width: 24px; height: 24px; background-color: #e1e1e1; border: 3px solid #9D9D9D; border-radius: 5px; position: absolute;\"> </div>\n",
       "    <div style=\"margin-left: 48px;\">\n",
       "        <h3 style=\"margin-bottom: 0px;\">Client</h3>\n",
       "        <p style=\"color: #9D9D9D; margin-bottom: 0px;\">Client-549aedab-793f-11f0-b258-e454e882ab19</p>\n",
       "        <table style=\"width: 100%; text-align: left;\">\n",
       "\n",
       "        <tr>\n",
       "        \n",
       "            <td style=\"text-align: left;\"><strong>Connection method:</strong> Cluster object</td>\n",
       "            <td style=\"text-align: left;\"><strong>Cluster type:</strong> distributed.LocalCluster</td>\n",
       "        \n",
       "        </tr>\n",
       "\n",
       "        \n",
       "            <tr>\n",
       "                <td style=\"text-align: left;\">\n",
       "                    <strong>Dashboard: </strong> <a href=\"http://172.19.111.216:8787/status\" target=\"_blank\">http://172.19.111.216:8787/status</a>\n",
       "                </td>\n",
       "                <td style=\"text-align: left;\"></td>\n",
       "            </tr>\n",
       "        \n",
       "\n",
       "        </table>\n",
       "\n",
       "        \n",
       "\n",
       "        \n",
       "            <details>\n",
       "            <summary style=\"margin-bottom: 20px;\"><h3 style=\"display: inline;\">Cluster Info</h3></summary>\n",
       "            <div class=\"jp-RenderedHTMLCommon jp-RenderedHTML jp-mod-trusted jp-OutputArea-output\">\n",
       "    <div style=\"width: 24px; height: 24px; background-color: #e1e1e1; border: 3px solid #9D9D9D; border-radius: 5px; position: absolute;\">\n",
       "    </div>\n",
       "    <div style=\"margin-left: 48px;\">\n",
       "        <h3 style=\"margin-bottom: 0px; margin-top: 0px;\">LocalCluster</h3>\n",
       "        <p style=\"color: #9D9D9D; margin-bottom: 0px;\">8b5939fc</p>\n",
       "        <table style=\"width: 100%; text-align: left;\">\n",
       "            <tr>\n",
       "                <td style=\"text-align: left;\">\n",
       "                    <strong>Dashboard:</strong> <a href=\"http://172.19.111.216:8787/status\" target=\"_blank\">http://172.19.111.216:8787/status</a>\n",
       "                </td>\n",
       "                <td style=\"text-align: left;\">\n",
       "                    <strong>Workers:</strong> 1\n",
       "                </td>\n",
       "            </tr>\n",
       "            <tr>\n",
       "                <td style=\"text-align: left;\">\n",
       "                    <strong>Total threads:</strong> 6\n",
       "                </td>\n",
       "                <td style=\"text-align: left;\">\n",
       "                    <strong>Total memory:</strong> 11.18 GiB\n",
       "                </td>\n",
       "            </tr>\n",
       "            \n",
       "            <tr>\n",
       "    <td style=\"text-align: left;\"><strong>Status:</strong> running</td>\n",
       "    <td style=\"text-align: left;\"><strong>Using processes:</strong> False</td>\n",
       "</tr>\n",
       "\n",
       "            \n",
       "        </table>\n",
       "\n",
       "        <details>\n",
       "            <summary style=\"margin-bottom: 20px;\">\n",
       "                <h3 style=\"display: inline;\">Scheduler Info</h3>\n",
       "            </summary>\n",
       "\n",
       "            <div style=\"\">\n",
       "    <div>\n",
       "        <div style=\"width: 24px; height: 24px; background-color: #FFF7E5; border: 3px solid #FF6132; border-radius: 5px; position: absolute;\"> </div>\n",
       "        <div style=\"margin-left: 48px;\">\n",
       "            <h3 style=\"margin-bottom: 0px;\">Scheduler</h3>\n",
       "            <p style=\"color: #9D9D9D; margin-bottom: 0px;\">Scheduler-a115f01f-bbe3-43a0-9070-c9c93b93c402</p>\n",
       "            <table style=\"width: 100%; text-align: left;\">\n",
       "                <tr>\n",
       "                    <td style=\"text-align: left;\">\n",
       "                        <strong>Comm:</strong> inproc://172.19.111.216/12888/1\n",
       "                    </td>\n",
       "                    <td style=\"text-align: left;\">\n",
       "                        <strong>Workers:</strong> 0 \n",
       "                    </td>\n",
       "                </tr>\n",
       "                <tr>\n",
       "                    <td style=\"text-align: left;\">\n",
       "                        <strong>Dashboard:</strong> <a href=\"http://172.19.111.216:8787/status\" target=\"_blank\">http://172.19.111.216:8787/status</a>\n",
       "                    </td>\n",
       "                    <td style=\"text-align: left;\">\n",
       "                        <strong>Total threads:</strong> 0\n",
       "                    </td>\n",
       "                </tr>\n",
       "                <tr>\n",
       "                    <td style=\"text-align: left;\">\n",
       "                        <strong>Started:</strong> Just now\n",
       "                    </td>\n",
       "                    <td style=\"text-align: left;\">\n",
       "                        <strong>Total memory:</strong> 0 B\n",
       "                    </td>\n",
       "                </tr>\n",
       "            </table>\n",
       "        </div>\n",
       "    </div>\n",
       "\n",
       "    <details style=\"margin-left: 48px;\">\n",
       "        <summary style=\"margin-bottom: 20px;\">\n",
       "            <h3 style=\"display: inline;\">Workers</h3>\n",
       "        </summary>\n",
       "\n",
       "        \n",
       "        <div style=\"margin-bottom: 20px;\">\n",
       "            <div style=\"width: 24px; height: 24px; background-color: #DBF5FF; border: 3px solid #4CC9FF; border-radius: 5px; position: absolute;\"> </div>\n",
       "            <div style=\"margin-left: 48px;\">\n",
       "            <details>\n",
       "                <summary>\n",
       "                    <h4 style=\"margin-bottom: 0px; display: inline;\">Worker: 0</h4>\n",
       "                </summary>\n",
       "                <table style=\"width: 100%; text-align: left;\">\n",
       "                    <tr>\n",
       "                        <td style=\"text-align: left;\">\n",
       "                            <strong>Comm: </strong> inproc://172.19.111.216/12888/4\n",
       "                        </td>\n",
       "                        <td style=\"text-align: left;\">\n",
       "                            <strong>Total threads: </strong> 6\n",
       "                        </td>\n",
       "                    </tr>\n",
       "                    <tr>\n",
       "                        <td style=\"text-align: left;\">\n",
       "                            <strong>Dashboard: </strong> <a href=\"http://172.19.111.216:52252/status\" target=\"_blank\">http://172.19.111.216:52252/status</a>\n",
       "                        </td>\n",
       "                        <td style=\"text-align: left;\">\n",
       "                            <strong>Memory: </strong> 11.18 GiB\n",
       "                        </td>\n",
       "                    </tr>\n",
       "                    <tr>\n",
       "                        <td style=\"text-align: left;\">\n",
       "                            <strong>Nanny: </strong> None\n",
       "                        </td>\n",
       "                        <td style=\"text-align: left;\"></td>\n",
       "                    </tr>\n",
       "                    <tr>\n",
       "                        <td colspan=\"2\" style=\"text-align: left;\">\n",
       "                            <strong>Local directory: </strong> C:\\Users\\johnsor\\AppData\\Local\\Temp\\dask-scratch-space\\worker-u8t0zt3w\n",
       "                        </td>\n",
       "                    </tr>\n",
       "\n",
       "                    \n",
       "\n",
       "                    \n",
       "\n",
       "                </table>\n",
       "            </details>\n",
       "            </div>\n",
       "        </div>\n",
       "        \n",
       "\n",
       "    </details>\n",
       "</div>\n",
       "\n",
       "        </details>\n",
       "    </div>\n",
       "</div>\n",
       "            </details>\n",
       "        \n",
       "\n",
       "    </div>\n",
       "</div>"
      ],
      "text/plain": [
       "<Client: 'inproc://172.19.111.216/12888/1' processes=1 threads=6, memory=11.18 GiB>"
      ]
     },
     "execution_count": 2,
     "metadata": {},
     "output_type": "execute_result"
    }
   ],
   "source": [
    "client = Client(processes=False, threads_per_worker=6,\n",
    "                n_workers=1, memory_limit='12GB')\n",
    "client"
   ]
  },
  {
   "cell_type": "code",
   "execution_count": 69,
   "id": "8e6f8508-ef0d-4a17-9fdf-1fabdd71fe38",
   "metadata": {},
   "outputs": [],
   "source": [
    "#Specific is the name of the folder of the orginal data\n",
    "specific = 'F231006L'\n",
    "#which_finger should be 1,2,3, or 4, corresponding to the index, middle, ring, and pinky fingers\n",
    "finger_num = 1\n",
    "digit_num = 2"
   ]
  },
  {
   "cell_type": "markdown",
   "id": "85af4896-3976-4e2c-8c69-d52b007a8fd4",
   "metadata": {},
   "source": [
    "Adjust the numbers below based on what you see in Napari"
   ]
  },
  {
   "cell_type": "code",
   "execution_count": 70,
   "id": "cb740f05-f765-4f87-be2f-916024a8d67f",
   "metadata": {},
   "outputs": [],
   "source": [
    "filter_size = 4\n",
    "closing_size = 13\n",
    "threshold = 375"
   ]
  },
  {
   "cell_type": "code",
   "execution_count": 71,
   "id": "1070efc4-577c-4ba8-a5dc-350ca5fcd758",
   "metadata": {},
   "outputs": [],
   "source": [
    "finger_names = {1: 'index', 2: 'middle', 3: 'ring', 4: 'pinky'}\n",
    "finger_name = finger_names[finger_num]\n",
    "digit_names = {1: 'proximal', 2: 'middle', 3: 'distal'}\n",
    "digit_name = digit_names[digit_num]"
   ]
  },
  {
   "cell_type": "code",
   "execution_count": 72,
   "id": "5374f19d-2eca-47f9-aa88-f667500a91e0",
   "metadata": {},
   "outputs": [],
   "source": [
    "full_finger_dir = f'../fingers/{finger_name}/full/{specific}/'\n",
    "digit_dir = f'../fingers/{finger_name}/{digit_name}/{specific}/'\n",
    "finger_eig_dir = f'../fingers/{finger_name}/full/{specific} - eigens/'\n",
    "mesh_dir = f'../meshes/{finger_name}/{digit_name}/{specific}/'\n",
    "mesh_csv_dir = f'../mesh_csvs/{finger_name}/{digit_name}/{specific}/'\n",
    "digit_eig_dir = f'../fingers/{finger_name}/{digit_name}/{specific} - eigens/'\n",
    "spacing = np.load('../spacing/' + specific + '.npy')"
   ]
  },
  {
   "cell_type": "code",
   "execution_count": 73,
   "id": "13687a79-df00-463e-bcc8-1b1b54d5dba3",
   "metadata": {},
   "outputs": [],
   "source": [
    "all_dirs = [digit_dir, mesh_dir, mesh_csv_dir]\n",
    "for d in all_dirs:\n",
    "    os.makedirs(d, exist_ok=True)"
   ]
  },
  {
   "cell_type": "code",
   "execution_count": 74,
   "id": "de4cf3fe-914a-4ec3-995f-1d00363b08fe",
   "metadata": {},
   "outputs": [],
   "source": [
    "digit = np.pad(\n",
    "    da.from_npy_stack(digit_dir).compute(),\n",
    "    ((closing_size,closing_size),)*3,\n",
    "    'edge',\n",
    ")"
   ]
  },
  {
   "cell_type": "code",
   "execution_count": 75,
   "id": "6d039138-ccd4-42b0-9580-a66c79911799",
   "metadata": {},
   "outputs": [
    {
     "data": {
      "text/plain": [
       "<Image layer 'digit' at 0x1a3c6fd4050>"
      ]
     },
     "execution_count": 75,
     "metadata": {},
     "output_type": "execute_result"
    }
   ],
   "source": [
    "viewer = napari.Viewer()\n",
    "\n",
    "viewer.add_image(\n",
    "    digit,\n",
    "    scale = spacing,\n",
    ")"
   ]
  },
  {
   "cell_type": "code",
   "execution_count": 76,
   "id": "85155ba1-d5a3-44ce-a4b6-c775aa544965",
   "metadata": {},
   "outputs": [],
   "source": [
    "smoothed = ndi.median_filter(\n",
    "    digit,\n",
    "    size = filter_size\n",
    ")"
   ]
  },
  {
   "cell_type": "code",
   "execution_count": 77,
   "id": "10a9c7ac-da29-4c60-96c5-680de367e8ef",
   "metadata": {},
   "outputs": [
    {
     "data": {
      "text/plain": [
       "<Image layer 'smoothed' at 0x1a3c6fd4b90>"
      ]
     },
     "execution_count": 77,
     "metadata": {},
     "output_type": "execute_result"
    }
   ],
   "source": [
    "viewer.add_image(\n",
    "    smoothed,\n",
    "    scale = spacing,\n",
    ")"
   ]
  },
  {
   "cell_type": "code",
   "execution_count": 78,
   "id": "d710dd42-e6ca-434c-a3f0-d2713e1f1cfd",
   "metadata": {},
   "outputs": [],
   "source": [
    "thresholded = morphology.remove_small_objects(\n",
    "    smoothed > threshold, min_size = 20**3\n",
    ")"
   ]
  },
  {
   "cell_type": "code",
   "execution_count": 79,
   "id": "07fd8cc4-4e26-48ef-bdb6-eecb94c1d385",
   "metadata": {},
   "outputs": [],
   "source": [
    "closed = morphology.closing(\n",
    "    thresholded,\n",
    "    footprint = morphology.ball(\n",
    "        closing_size,\n",
    "        decomposition = 'sequence',\n",
    "    ),\n",
    "    mode = 'ignore',\n",
    ")"
   ]
  },
  {
   "cell_type": "code",
   "execution_count": 80,
   "id": "21802d5e-9dca-475b-a644-de19120f8a53",
   "metadata": {},
   "outputs": [
    {
     "data": {
      "text/plain": [
       "<Image layer 'closed' at 0x1a3c7253110>"
      ]
     },
     "execution_count": 80,
     "metadata": {},
     "output_type": "execute_result"
    }
   ],
   "source": [
    "viewer.add_image(\n",
    "    closed,\n",
    "    scale = spacing,\n",
    ")"
   ]
  },
  {
   "cell_type": "code",
   "execution_count": 81,
   "id": "8aee6dd7-1f3f-45e4-ab8e-1b1de51ca8b7",
   "metadata": {},
   "outputs": [],
   "source": [
    "holes = measure.label(\n",
    "    closed == 0\n",
    ")"
   ]
  },
  {
   "cell_type": "code",
   "execution_count": 82,
   "id": "8773439d-27f4-4495-a02c-64f17b25183f",
   "metadata": {},
   "outputs": [
    {
     "data": {
      "text/plain": [
       "<Labels layer 'holes' at 0x1a3fa9be5d0>"
      ]
     },
     "execution_count": 82,
     "metadata": {},
     "output_type": "execute_result"
    }
   ],
   "source": [
    "viewer.add_labels(\n",
    "    holes,\n",
    "    scale = spacing,\n",
    ")"
   ]
  },
  {
   "cell_type": "code",
   "execution_count": 83,
   "id": "74f75239-d516-4296-9c4d-9cbe8887b9b5",
   "metadata": {},
   "outputs": [],
   "source": [
    "n_holes = np.max(holes) - 1\n",
    "fill_holes = np.array([1] + [0] + [1]*n_holes, dtype=np.dtype('uint8'))\n",
    "solid = fill_holes[holes]"
   ]
  },
  {
   "cell_type": "code",
   "execution_count": 84,
   "id": "2273daa0-7e07-4d4f-9636-78612eaa25df",
   "metadata": {},
   "outputs": [
    {
     "data": {
      "text/plain": [
       "<Image layer 'solid' at 0x1a3f8efd590>"
      ]
     },
     "execution_count": 84,
     "metadata": {},
     "output_type": "execute_result"
    }
   ],
   "source": [
    "viewer.add_image(\n",
    "    solid,\n",
    "    scale = spacing,\n",
    "    contrast_limits = (0,1),\n",
    ")"
   ]
  },
  {
   "cell_type": "code",
   "execution_count": 85,
   "id": "d3c00028-8daf-423a-98ac-2fa247bec85d",
   "metadata": {},
   "outputs": [],
   "source": [
    "verts, faces, normals, values = measure.marching_cubes(\n",
    "    volume = solid,\n",
    "    spacing = spacing,\n",
    ")"
   ]
  },
  {
   "cell_type": "code",
   "execution_count": 86,
   "id": "2e1785ef-534f-4b96-bdce-2187574dcead",
   "metadata": {},
   "outputs": [],
   "source": [
    "mesh_view = viewer.add_surface(\n",
    "    data = (verts, faces, values),\n",
    ")"
   ]
  },
  {
   "cell_type": "code",
   "execution_count": 87,
   "id": "7a58b48f-009b-4eeb-aa49-da5deb00a6a2",
   "metadata": {},
   "outputs": [],
   "source": [
    "np.save(mesh_dir + 'vertices.npy', verts)\n",
    "np.save(mesh_dir + 'faces.npy', faces)\n",
    "np.save(mesh_dir + 'values.npy', values)\n",
    "np.save(mesh_dir + 'normals.npy', normals)"
   ]
  },
  {
   "cell_type": "code",
   "execution_count": 88,
   "id": "eb73511c-a82c-4d5d-b9ee-9f4203180d41",
   "metadata": {},
   "outputs": [],
   "source": [
    "np.savetxt(mesh_csv_dir + 'vertices.csv', verts, delimiter=',')\n",
    "np.savetxt(mesh_csv_dir + 'faces.csv', faces, delimiter=',')\n",
    "np.savetxt(mesh_csv_dir + 'values.csv', values, delimiter=',')\n",
    "np.savetxt(mesh_csv_dir + 'normals.csv', normals, delimiter=',')"
   ]
  },
  {
   "cell_type": "code",
   "execution_count": null,
   "id": "d1784d49-bd69-43f3-a64d-e659240a8121",
   "metadata": {},
   "outputs": [],
   "source": []
  }
 ],
 "metadata": {
  "kernelspec": {
   "display_name": "Python 3 (ipykernel)",
   "language": "python",
   "name": "python3"
  },
  "language_info": {
   "codemirror_mode": {
    "name": "ipython",
    "version": 3
   },
   "file_extension": ".py",
   "mimetype": "text/x-python",
   "name": "python",
   "nbconvert_exporter": "python",
   "pygments_lexer": "ipython3",
   "version": "3.11.5"
  }
 },
 "nbformat": 4,
 "nbformat_minor": 5
}
