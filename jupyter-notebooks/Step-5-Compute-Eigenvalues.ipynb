{
 "cells": [
  {
   "cell_type": "code",
   "execution_count": 5,
   "id": "a86a5f72-51af-4b7a-9ea5-4766f4b2013a",
   "metadata": {},
   "outputs": [],
   "source": [
    "import matplotlib.pyplot as plt\n",
    "import scipy as sp\n",
    "import numpy as np\n",
    "import os\n",
    "import time\n",
    "\n",
    "from skimage import morphology\n",
    "from skimage.segmentation import expand_labels, watershed\n",
    "from scipy.ndimage import convolve1d\n",
    "from dask_ml.cluster import KMeans\n",
    "from dask_ml.decomposition import PCA\n",
    "\n",
    "from dask_image import imread\n",
    "from dask_image import ndmeasure\n",
    "from dask_image import ndfilters\n",
    "from dask import array as da\n",
    "from dask.distributed import Client, progress\n",
    "\n",
    "import napari"
   ]
  },
  {
   "cell_type": "code",
   "execution_count": 6,
   "id": "f9c3fb23-4b81-43be-a023-616be35a9d8e",
   "metadata": {
    "scrolled": true
   },
   "outputs": [
    {
     "name": "stderr",
     "output_type": "stream",
     "text": [
      "C:\\Users\\johnsor\\AppData\\Local\\miniforge3\\envs\\stat-shape\\Lib\\site-packages\\distributed\\node.py:187: UserWarning: Port 8787 is already in use.\n",
      "Perhaps you already have a cluster running?\n",
      "Hosting the HTTP server on port 50448 instead\n",
      "  warnings.warn(\n"
     ]
    },
    {
     "data": {
      "text/html": [
       "<div>\n",
       "    <div style=\"width: 24px; height: 24px; background-color: #e1e1e1; border: 3px solid #9D9D9D; border-radius: 5px; position: absolute;\"> </div>\n",
       "    <div style=\"margin-left: 48px;\">\n",
       "        <h3 style=\"margin-bottom: 0px;\">Client</h3>\n",
       "        <p style=\"color: #9D9D9D; margin-bottom: 0px;\">Client-301b806d-6953-11f0-aa60-e454e882ab19</p>\n",
       "        <table style=\"width: 100%; text-align: left;\">\n",
       "\n",
       "        <tr>\n",
       "        \n",
       "            <td style=\"text-align: left;\"><strong>Connection method:</strong> Cluster object</td>\n",
       "            <td style=\"text-align: left;\"><strong>Cluster type:</strong> distributed.LocalCluster</td>\n",
       "        \n",
       "        </tr>\n",
       "\n",
       "        \n",
       "            <tr>\n",
       "                <td style=\"text-align: left;\">\n",
       "                    <strong>Dashboard: </strong> <a href=\"http://172.19.111.216:50448/status\" target=\"_blank\">http://172.19.111.216:50448/status</a>\n",
       "                </td>\n",
       "                <td style=\"text-align: left;\"></td>\n",
       "            </tr>\n",
       "        \n",
       "\n",
       "        </table>\n",
       "\n",
       "        \n",
       "\n",
       "        \n",
       "            <details>\n",
       "            <summary style=\"margin-bottom: 20px;\"><h3 style=\"display: inline;\">Cluster Info</h3></summary>\n",
       "            <div class=\"jp-RenderedHTMLCommon jp-RenderedHTML jp-mod-trusted jp-OutputArea-output\">\n",
       "    <div style=\"width: 24px; height: 24px; background-color: #e1e1e1; border: 3px solid #9D9D9D; border-radius: 5px; position: absolute;\">\n",
       "    </div>\n",
       "    <div style=\"margin-left: 48px;\">\n",
       "        <h3 style=\"margin-bottom: 0px; margin-top: 0px;\">LocalCluster</h3>\n",
       "        <p style=\"color: #9D9D9D; margin-bottom: 0px;\">106b4b60</p>\n",
       "        <table style=\"width: 100%; text-align: left;\">\n",
       "            <tr>\n",
       "                <td style=\"text-align: left;\">\n",
       "                    <strong>Dashboard:</strong> <a href=\"http://172.19.111.216:50448/status\" target=\"_blank\">http://172.19.111.216:50448/status</a>\n",
       "                </td>\n",
       "                <td style=\"text-align: left;\">\n",
       "                    <strong>Workers:</strong> 1\n",
       "                </td>\n",
       "            </tr>\n",
       "            <tr>\n",
       "                <td style=\"text-align: left;\">\n",
       "                    <strong>Total threads:</strong> 6\n",
       "                </td>\n",
       "                <td style=\"text-align: left;\">\n",
       "                    <strong>Total memory:</strong> 11.18 GiB\n",
       "                </td>\n",
       "            </tr>\n",
       "            \n",
       "            <tr>\n",
       "    <td style=\"text-align: left;\"><strong>Status:</strong> running</td>\n",
       "    <td style=\"text-align: left;\"><strong>Using processes:</strong> False</td>\n",
       "</tr>\n",
       "\n",
       "            \n",
       "        </table>\n",
       "\n",
       "        <details>\n",
       "            <summary style=\"margin-bottom: 20px;\">\n",
       "                <h3 style=\"display: inline;\">Scheduler Info</h3>\n",
       "            </summary>\n",
       "\n",
       "            <div style=\"\">\n",
       "    <div>\n",
       "        <div style=\"width: 24px; height: 24px; background-color: #FFF7E5; border: 3px solid #FF6132; border-radius: 5px; position: absolute;\"> </div>\n",
       "        <div style=\"margin-left: 48px;\">\n",
       "            <h3 style=\"margin-bottom: 0px;\">Scheduler</h3>\n",
       "            <p style=\"color: #9D9D9D; margin-bottom: 0px;\">Scheduler-a789633c-114b-47e0-959b-e6d16448d2ee</p>\n",
       "            <table style=\"width: 100%; text-align: left;\">\n",
       "                <tr>\n",
       "                    <td style=\"text-align: left;\">\n",
       "                        <strong>Comm:</strong> inproc://172.19.111.216/10848/1\n",
       "                    </td>\n",
       "                    <td style=\"text-align: left;\">\n",
       "                        <strong>Workers:</strong> 0 \n",
       "                    </td>\n",
       "                </tr>\n",
       "                <tr>\n",
       "                    <td style=\"text-align: left;\">\n",
       "                        <strong>Dashboard:</strong> <a href=\"http://172.19.111.216:50448/status\" target=\"_blank\">http://172.19.111.216:50448/status</a>\n",
       "                    </td>\n",
       "                    <td style=\"text-align: left;\">\n",
       "                        <strong>Total threads:</strong> 0\n",
       "                    </td>\n",
       "                </tr>\n",
       "                <tr>\n",
       "                    <td style=\"text-align: left;\">\n",
       "                        <strong>Started:</strong> Just now\n",
       "                    </td>\n",
       "                    <td style=\"text-align: left;\">\n",
       "                        <strong>Total memory:</strong> 0 B\n",
       "                    </td>\n",
       "                </tr>\n",
       "            </table>\n",
       "        </div>\n",
       "    </div>\n",
       "\n",
       "    <details style=\"margin-left: 48px;\">\n",
       "        <summary style=\"margin-bottom: 20px;\">\n",
       "            <h3 style=\"display: inline;\">Workers</h3>\n",
       "        </summary>\n",
       "\n",
       "        \n",
       "        <div style=\"margin-bottom: 20px;\">\n",
       "            <div style=\"width: 24px; height: 24px; background-color: #DBF5FF; border: 3px solid #4CC9FF; border-radius: 5px; position: absolute;\"> </div>\n",
       "            <div style=\"margin-left: 48px;\">\n",
       "            <details>\n",
       "                <summary>\n",
       "                    <h4 style=\"margin-bottom: 0px; display: inline;\">Worker: 0</h4>\n",
       "                </summary>\n",
       "                <table style=\"width: 100%; text-align: left;\">\n",
       "                    <tr>\n",
       "                        <td style=\"text-align: left;\">\n",
       "                            <strong>Comm: </strong> inproc://172.19.111.216/10848/4\n",
       "                        </td>\n",
       "                        <td style=\"text-align: left;\">\n",
       "                            <strong>Total threads: </strong> 6\n",
       "                        </td>\n",
       "                    </tr>\n",
       "                    <tr>\n",
       "                        <td style=\"text-align: left;\">\n",
       "                            <strong>Dashboard: </strong> <a href=\"http://172.19.111.216:50449/status\" target=\"_blank\">http://172.19.111.216:50449/status</a>\n",
       "                        </td>\n",
       "                        <td style=\"text-align: left;\">\n",
       "                            <strong>Memory: </strong> 11.18 GiB\n",
       "                        </td>\n",
       "                    </tr>\n",
       "                    <tr>\n",
       "                        <td style=\"text-align: left;\">\n",
       "                            <strong>Nanny: </strong> None\n",
       "                        </td>\n",
       "                        <td style=\"text-align: left;\"></td>\n",
       "                    </tr>\n",
       "                    <tr>\n",
       "                        <td colspan=\"2\" style=\"text-align: left;\">\n",
       "                            <strong>Local directory: </strong> C:\\Users\\johnsor\\AppData\\Local\\Temp\\dask-scratch-space\\worker-wnqgkxt0\n",
       "                        </td>\n",
       "                    </tr>\n",
       "\n",
       "                    \n",
       "\n",
       "                    \n",
       "\n",
       "                </table>\n",
       "            </details>\n",
       "            </div>\n",
       "        </div>\n",
       "        \n",
       "\n",
       "    </details>\n",
       "</div>\n",
       "\n",
       "        </details>\n",
       "    </div>\n",
       "</div>\n",
       "            </details>\n",
       "        \n",
       "\n",
       "    </div>\n",
       "</div>"
      ],
      "text/plain": [
       "<Client: 'inproc://172.19.111.216/10848/1' processes=1 threads=6, memory=11.18 GiB>"
      ]
     },
     "execution_count": 6,
     "metadata": {},
     "output_type": "execute_result"
    }
   ],
   "source": [
    "client = Client(processes=False, threads_per_worker=6,\n",
    "                n_workers=1, memory_limit='12GB')\n",
    "client"
   ]
  },
  {
   "cell_type": "code",
   "execution_count": 46,
   "id": "c059967c-5fc8-4900-bb49-66703c489003",
   "metadata": {},
   "outputs": [],
   "source": [
    "#Specific is the name of the folder of the orginal data\n",
    "specific = 'F231006L'\n",
    "#which_finger should be 1,2,3, or 4, corresponding to the index, middle, ring, and pinky fingers\n",
    "which_finger = 3"
   ]
  },
  {
   "cell_type": "code",
   "execution_count": 47,
   "id": "ff098ef5-7a52-4abf-998d-0ddb541b483f",
   "metadata": {},
   "outputs": [],
   "source": [
    "finger_dir = {1: '../fingers/index/full/' + specific + '/',\n",
    "              2: '../fingers/middle/full/' + specific + '/',\n",
    "              3: '../fingers/ring/full/' + specific + '/',\n",
    "              4: '../fingers/pinky/full/' + specific + '/',\n",
    "             }\n",
    "temp_eigs_dir = {1: '../fingers/index/full/' + specific + ' - eigens/',\n",
    "              2: '../fingers/middle/full/' + specific + ' - eigens/',\n",
    "              3: '../fingers/ring/full/' + specific + ' - eigens/',\n",
    "              4: '../fingers/pinky/full/' + specific + ' - eigens/',\n",
    "             }"
   ]
  },
  {
   "cell_type": "code",
   "execution_count": 48,
   "id": "f7099c24-07ce-4684-9481-ea540dc017ee",
   "metadata": {},
   "outputs": [],
   "source": [
    "#If the file is small enough for your computer, \n",
    "#then add \".compute\" to the end of the line below below.\n",
    "finger = da.from_npy_stack(finger_dir[which_finger])\n",
    "spacing = np.load('../spacing/' + specific + '.npy')"
   ]
  },
  {
   "cell_type": "code",
   "execution_count": 49,
   "id": "1c99e97d-ccb2-4600-bea4-d240f4b167c5",
   "metadata": {},
   "outputs": [],
   "source": [
    "dd_sigma = 2"
   ]
  },
  {
   "cell_type": "code",
   "execution_count": 50,
   "id": "c26e0dbc-365f-4895-b630-8df3481c8568",
   "metadata": {},
   "outputs": [],
   "source": [
    "#The size of the filter is determiend by dd_sigma above\n",
    "s = dd_sigma\n",
    "range_1d = np.arange(-4*s, 4*s + 1)\n",
    "length_1d = 8*s + 1\n",
    "\n",
    "#1-D Gaussian approximation\n",
    "G = np.array([1/(np.sqrt(2*np.pi)*s) * np.exp(-x**2/(2*s**2)) for x in range_1d])\n",
    "G_x = G[np.newaxis, np.newaxis, :]\n",
    "G_y = G[np.newaxis, :, np.newaxis]\n",
    "G_z = G[:,np.newaxis, np.newaxis]\n",
    "\n",
    "#1-D Gaussian derivative approximation\n",
    "dG = np.array([-x/(np.sqrt(2*np.pi)*s**3) * np.exp(-x**2/(2*s**2)) for x in range_1d])\n",
    "dG_x = dG[np.newaxis, np.newaxis, :]\n",
    "dG_y = dG[np.newaxis, :, np.newaxis]\n",
    "dG_z = dG[:,np.newaxis, np.newaxis]\n",
    "\n",
    "#1-D Gaussian 2nd derivative approximation\n",
    "ddG = np.array([(x**2 - s**2)/(np.sqrt(2*np.pi)*s**5) * np.exp(-x**2/(2*s**2)) for x in range_1d])\n",
    "ddG_x = ddG[np.newaxis, np.newaxis, :]\n",
    "ddG_y = ddG[np.newaxis, :, np.newaxis]\n",
    "ddG_z = ddG[:,np.newaxis, np.newaxis]"
   ]
  },
  {
   "cell_type": "code",
   "execution_count": 51,
   "id": "9bf4cb4a-814f-4f35-845b-4c60d015aa0f",
   "metadata": {},
   "outputs": [],
   "source": [
    "#Do the convolutions\n",
    "dxdxGcI = ndfilters.convolve(\n",
    "    ndfilters.convolve(\n",
    "        ndfilters.convolve(finger, ddG_x),\n",
    "        G_y,\n",
    "    ),\n",
    "    G_z,\n",
    ")\n",
    "dxdyGcI = ndfilters.convolve(\n",
    "    ndfilters.convolve(\n",
    "        ndfilters.convolve(finger, dG_x),\n",
    "        dG_y,\n",
    "    ),\n",
    "    G_z,\n",
    ")\n",
    "dydyGcI = ndfilters.convolve(\n",
    "    ndfilters.convolve(\n",
    "        ndfilters.convolve(finger, G_x),\n",
    "        ddG_y,\n",
    "    ),\n",
    "    G_z,\n",
    ")\n",
    "dydzGcI = ndfilters.convolve(\n",
    "    ndfilters.convolve(\n",
    "        ndfilters.convolve(finger, G_x),\n",
    "        dG_y,\n",
    "    ),\n",
    "    dG_z,\n",
    ")\n",
    "dzdzGcI = ndfilters.convolve(\n",
    "    ndfilters.convolve(\n",
    "        ndfilters.convolve(finger, G_x),\n",
    "        G_y,\n",
    "    ),\n",
    "    ddG_z,\n",
    ")\n",
    "dzdxGcI = ndfilters.convolve(\n",
    "    ndfilters.convolve(\n",
    "        ndfilters.convolve(finger, dG_x),\n",
    "        G_y,\n",
    "    ),\n",
    "    dG_z,\n",
    ")"
   ]
  },
  {
   "cell_type": "code",
   "execution_count": 52,
   "id": "f23e54ab-b3aa-4634-a1fa-edab6579935e",
   "metadata": {},
   "outputs": [],
   "source": [
    "DD = np.stack([dxdxGcI, dxdyGcI, dydyGcI, dydzGcI, dzdzGcI, dzdxGcI], axis = 3)"
   ]
  },
  {
   "cell_type": "code",
   "execution_count": 53,
   "id": "bfa0f6ed-99f1-42bb-ac47-14e1894e3270",
   "metadata": {},
   "outputs": [],
   "source": [
    "da.to_npy_stack('temp-derivatives/', DD)"
   ]
  },
  {
   "cell_type": "code",
   "execution_count": 54,
   "id": "88d22f35-bd14-40c1-99bd-87a867226868",
   "metadata": {},
   "outputs": [],
   "source": [
    "DD = da.from_npy_stack('temp-derivatives/')"
   ]
  },
  {
   "cell_type": "code",
   "execution_count": 55,
   "id": "8fc86c69-b124-48d4-a9f5-46e218465ada",
   "metadata": {},
   "outputs": [],
   "source": [
    "def viete(the_six):\n",
    "    if len(the_six) == 6:\n",
    "        #the_six should be formatted as the [xx, xy, yy, yz, zz, zx] derivatives\n",
    "        # of the Gaussian convolved with the image\n",
    "        xx, xy, yy, yz, zz, xz = the_six\n",
    "        #The characteristic polynomial of the 3x3 matrix will have coefficients:\n",
    "        trace_av = np.average([xx, yy, zz])\n",
    "        P_shifted = np.array([[xx-trace_av, xy,          xz],\n",
    "                              [xy,          yy-trace_av, yz],\n",
    "                              [xz,          yz,          zz-trace_av]])\n",
    "        _,_,p,q = np.poly(P_shifted)\n",
    "        neg_p_sqrt = np.sqrt(-p)\n",
    "        sqrt_3 = 1.732050807568877\n",
    "        if p >= -10**(-5): #This will only happen if all off-diagonals are basically zero and\n",
    "            # all diagonals are basically identical.\n",
    "            eigens = np.array([trace_av]*3)\n",
    "        elif 27*q**2 > -4*p**3 - 10**(-5):\n",
    "            #This can only happen when the discriminant is basically zero\n",
    "            # which will mean cos(theta) = sign(q).  In either case, cosine of one of\n",
    "            # the trisected angels will also be sign(q).\n",
    "            la1 = neg_p_sqrt * 2 * np.sign(q) / sqrt_3 - trace_av\n",
    "            la23 = neg_p_sqrt * (-np.sign(q)) / sqrt_3 - trace_av\n",
    "            eigens = np.array(sorted([la1, la23, la23], reverse=True))\n",
    "        else:\n",
    "            theta = np.arccos(3*sqrt_3*q/(2*neg_p_sqrt**3))\n",
    "            cs = np.cos(theta/3)\n",
    "            sn = np.sqrt(1 - cs**2)\n",
    "            la1 = neg_p_sqrt * 2 * cs / sqrt_3 - trace_av\n",
    "            la2 = neg_p_sqrt * (-cs + sqrt_3*sn) / sqrt_3 - trace_av\n",
    "            la3 = neg_p_sqrt * (-cs - sqrt_3*sn) / sqrt_3 - trace_av\n",
    "            eigens = np.array(sorted([la1, la2, la3], reverse=True))\n",
    "        return eigens\n",
    "    else:\n",
    "        print(f'Viete: The chosen axis must be of length 6, but instead, got: {the_six} which is length {len(the_six)}')\n",
    "        return np.zeros(3)"
   ]
  },
  {
   "cell_type": "code",
   "execution_count": 56,
   "id": "62c0d569-fa5b-42af-8551-7b0bd3155b7e",
   "metadata": {},
   "outputs": [
    {
     "name": "stdout",
     "output_type": "stream",
     "text": [
      "Viete: The chosen axis must be of length 6, but instead, got: [1.] which is length 1\n"
     ]
    }
   ],
   "source": [
    "eigs = da.apply_along_axis(viete, 3, DD)"
   ]
  },
  {
   "cell_type": "code",
   "execution_count": 57,
   "id": "c1f19d98-09a6-4d0c-b74e-2c677ccf3d89",
   "metadata": {},
   "outputs": [
    {
     "name": "stdout",
     "output_type": "stream",
     "text": [
      "CPU times: total: 5h 35min 9s\n",
      "Wall time: 4h 39min 50s\n"
     ]
    }
   ],
   "source": [
    "%time da.to_npy_stack(temp_eigs_dir[which_finger], eigs)"
   ]
  },
  {
   "cell_type": "code",
   "execution_count": 58,
   "id": "43990aae-ed77-4969-8f98-05d60947346e",
   "metadata": {},
   "outputs": [],
   "source": [
    "eigs = da.from_npy_stack(temp_eigs_dir[which_finger])"
   ]
  },
  {
   "cell_type": "code",
   "execution_count": null,
   "id": "370a741f-d54c-4513-b8eb-91002679b8a4",
   "metadata": {},
   "outputs": [],
   "source": [
    "eigs"
   ]
  },
  {
   "cell_type": "code",
   "execution_count": null,
   "id": "9581bb3e-825e-4a2f-850d-c66e87b9e9ba",
   "metadata": {},
   "outputs": [],
   "source": []
  }
 ],
 "metadata": {
  "kernelspec": {
   "display_name": "Python 3 (ipykernel)",
   "language": "python",
   "name": "python3"
  },
  "language_info": {
   "codemirror_mode": {
    "name": "ipython",
    "version": 3
   },
   "file_extension": ".py",
   "mimetype": "text/x-python",
   "name": "python",
   "nbconvert_exporter": "python",
   "pygments_lexer": "ipython3",
   "version": "3.13.5"
  }
 },
 "nbformat": 4,
 "nbformat_minor": 5
}
