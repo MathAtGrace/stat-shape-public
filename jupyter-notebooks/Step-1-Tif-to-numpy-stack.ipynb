{
 "cells": [
  {
   "cell_type": "code",
   "execution_count": 1,
   "id": "cb3b70e1-4996-4485-81fb-dd1c44ccd5a1",
   "metadata": {},
   "outputs": [],
   "source": [
    "import matplotlib.pyplot as plt\n",
    "import scipy as sp\n",
    "import numpy as np\n",
    "import os\n",
    "from glob import glob\n",
    "\n",
    "from skimage.io import imread\n",
    "from skimage.io.collection import alphanumeric_key\n",
    "from skimage import morphology\n",
    "\n",
    "from dask import delayed\n",
    "from dask import array as da\n",
    "from dask.distributed import Client, progress\n",
    "\n",
    "import napari"
   ]
  },
  {
   "cell_type": "markdown",
   "id": "f1a0913f-d03c-43cb-b0ac-3d61c250ff6e",
   "metadata": {},
   "source": [
    "# TIF stack to stack of numpy arrays using Dask\n",
    "\n",
    "This notebook takes a stack of `*.tif` files and then\n",
    "1. Creates a dask array.\n",
    "1. Asks the the user to view the file and pick the subset that cuts off most of the metacarpals\n",
    "2. Computes a histogram.\n",
    "3. Uses the histogram to estimate houndsfiend units.\n",
    "4. Resets data type to include negatives and transformed to houndsfield units.\n",
    "5. Saves as a stack of numpy arrays in the `hands` folder."
   ]
  },
  {
   "cell_type": "code",
   "execution_count": 2,
   "id": "2565b071-f255-4ab6-b0e6-3c5ad7b20c14",
   "metadata": {},
   "outputs": [
    {
     "data": {
      "text/html": [
       "<div>\n",
       "    <div style=\"width: 24px; height: 24px; background-color: #e1e1e1; border: 3px solid #9D9D9D; border-radius: 5px; position: absolute;\"> </div>\n",
       "    <div style=\"margin-left: 48px;\">\n",
       "        <h3 style=\"margin-bottom: 0px;\">Client</h3>\n",
       "        <p style=\"color: #9D9D9D; margin-bottom: 0px;\">Client-254d1a16-79ef-11f0-9d28-e454e882ab19</p>\n",
       "        <table style=\"width: 100%; text-align: left;\">\n",
       "\n",
       "        <tr>\n",
       "        \n",
       "            <td style=\"text-align: left;\"><strong>Connection method:</strong> Cluster object</td>\n",
       "            <td style=\"text-align: left;\"><strong>Cluster type:</strong> distributed.LocalCluster</td>\n",
       "        \n",
       "        </tr>\n",
       "\n",
       "        \n",
       "            <tr>\n",
       "                <td style=\"text-align: left;\">\n",
       "                    <strong>Dashboard: </strong> <a href=\"http://172.19.111.216:8787/status\" target=\"_blank\">http://172.19.111.216:8787/status</a>\n",
       "                </td>\n",
       "                <td style=\"text-align: left;\"></td>\n",
       "            </tr>\n",
       "        \n",
       "\n",
       "        </table>\n",
       "\n",
       "        \n",
       "\n",
       "        \n",
       "            <details>\n",
       "            <summary style=\"margin-bottom: 20px;\"><h3 style=\"display: inline;\">Cluster Info</h3></summary>\n",
       "            <div class=\"jp-RenderedHTMLCommon jp-RenderedHTML jp-mod-trusted jp-OutputArea-output\">\n",
       "    <div style=\"width: 24px; height: 24px; background-color: #e1e1e1; border: 3px solid #9D9D9D; border-radius: 5px; position: absolute;\">\n",
       "    </div>\n",
       "    <div style=\"margin-left: 48px;\">\n",
       "        <h3 style=\"margin-bottom: 0px; margin-top: 0px;\">LocalCluster</h3>\n",
       "        <p style=\"color: #9D9D9D; margin-bottom: 0px;\">e8ba9591</p>\n",
       "        <table style=\"width: 100%; text-align: left;\">\n",
       "            <tr>\n",
       "                <td style=\"text-align: left;\">\n",
       "                    <strong>Dashboard:</strong> <a href=\"http://172.19.111.216:8787/status\" target=\"_blank\">http://172.19.111.216:8787/status</a>\n",
       "                </td>\n",
       "                <td style=\"text-align: left;\">\n",
       "                    <strong>Workers:</strong> 1\n",
       "                </td>\n",
       "            </tr>\n",
       "            <tr>\n",
       "                <td style=\"text-align: left;\">\n",
       "                    <strong>Total threads:</strong> 4\n",
       "                </td>\n",
       "                <td style=\"text-align: left;\">\n",
       "                    <strong>Total memory:</strong> 3.73 GiB\n",
       "                </td>\n",
       "            </tr>\n",
       "            \n",
       "            <tr>\n",
       "    <td style=\"text-align: left;\"><strong>Status:</strong> running</td>\n",
       "    <td style=\"text-align: left;\"><strong>Using processes:</strong> False</td>\n",
       "</tr>\n",
       "\n",
       "            \n",
       "        </table>\n",
       "\n",
       "        <details>\n",
       "            <summary style=\"margin-bottom: 20px;\">\n",
       "                <h3 style=\"display: inline;\">Scheduler Info</h3>\n",
       "            </summary>\n",
       "\n",
       "            <div style=\"\">\n",
       "    <div>\n",
       "        <div style=\"width: 24px; height: 24px; background-color: #FFF7E5; border: 3px solid #FF6132; border-radius: 5px; position: absolute;\"> </div>\n",
       "        <div style=\"margin-left: 48px;\">\n",
       "            <h3 style=\"margin-bottom: 0px;\">Scheduler</h3>\n",
       "            <p style=\"color: #9D9D9D; margin-bottom: 0px;\">Scheduler-35ed7f50-10f9-4ebc-8bb0-602a7e6a9ec4</p>\n",
       "            <table style=\"width: 100%; text-align: left;\">\n",
       "                <tr>\n",
       "                    <td style=\"text-align: left;\">\n",
       "                        <strong>Comm:</strong> inproc://172.19.111.216/7464/1\n",
       "                    </td>\n",
       "                    <td style=\"text-align: left;\">\n",
       "                        <strong>Workers:</strong> 0 \n",
       "                    </td>\n",
       "                </tr>\n",
       "                <tr>\n",
       "                    <td style=\"text-align: left;\">\n",
       "                        <strong>Dashboard:</strong> <a href=\"http://172.19.111.216:8787/status\" target=\"_blank\">http://172.19.111.216:8787/status</a>\n",
       "                    </td>\n",
       "                    <td style=\"text-align: left;\">\n",
       "                        <strong>Total threads:</strong> 0\n",
       "                    </td>\n",
       "                </tr>\n",
       "                <tr>\n",
       "                    <td style=\"text-align: left;\">\n",
       "                        <strong>Started:</strong> Just now\n",
       "                    </td>\n",
       "                    <td style=\"text-align: left;\">\n",
       "                        <strong>Total memory:</strong> 0 B\n",
       "                    </td>\n",
       "                </tr>\n",
       "            </table>\n",
       "        </div>\n",
       "    </div>\n",
       "\n",
       "    <details style=\"margin-left: 48px;\">\n",
       "        <summary style=\"margin-bottom: 20px;\">\n",
       "            <h3 style=\"display: inline;\">Workers</h3>\n",
       "        </summary>\n",
       "\n",
       "        \n",
       "        <div style=\"margin-bottom: 20px;\">\n",
       "            <div style=\"width: 24px; height: 24px; background-color: #DBF5FF; border: 3px solid #4CC9FF; border-radius: 5px; position: absolute;\"> </div>\n",
       "            <div style=\"margin-left: 48px;\">\n",
       "            <details>\n",
       "                <summary>\n",
       "                    <h4 style=\"margin-bottom: 0px; display: inline;\">Worker: 0</h4>\n",
       "                </summary>\n",
       "                <table style=\"width: 100%; text-align: left;\">\n",
       "                    <tr>\n",
       "                        <td style=\"text-align: left;\">\n",
       "                            <strong>Comm: </strong> inproc://172.19.111.216/7464/4\n",
       "                        </td>\n",
       "                        <td style=\"text-align: left;\">\n",
       "                            <strong>Total threads: </strong> 4\n",
       "                        </td>\n",
       "                    </tr>\n",
       "                    <tr>\n",
       "                        <td style=\"text-align: left;\">\n",
       "                            <strong>Dashboard: </strong> <a href=\"http://172.19.111.216:63944/status\" target=\"_blank\">http://172.19.111.216:63944/status</a>\n",
       "                        </td>\n",
       "                        <td style=\"text-align: left;\">\n",
       "                            <strong>Memory: </strong> 3.73 GiB\n",
       "                        </td>\n",
       "                    </tr>\n",
       "                    <tr>\n",
       "                        <td style=\"text-align: left;\">\n",
       "                            <strong>Nanny: </strong> None\n",
       "                        </td>\n",
       "                        <td style=\"text-align: left;\"></td>\n",
       "                    </tr>\n",
       "                    <tr>\n",
       "                        <td colspan=\"2\" style=\"text-align: left;\">\n",
       "                            <strong>Local directory: </strong> C:\\Users\\johnsor\\AppData\\Local\\Temp\\dask-scratch-space\\worker-5cy4p53d\n",
       "                        </td>\n",
       "                    </tr>\n",
       "\n",
       "                    \n",
       "\n",
       "                    \n",
       "\n",
       "                </table>\n",
       "            </details>\n",
       "            </div>\n",
       "        </div>\n",
       "        \n",
       "\n",
       "    </details>\n",
       "</div>\n",
       "\n",
       "        </details>\n",
       "    </div>\n",
       "</div>\n",
       "            </details>\n",
       "        \n",
       "\n",
       "    </div>\n",
       "</div>"
      ],
      "text/plain": [
       "<Client: 'inproc://172.19.111.216/7464/1' processes=1 threads=4, memory=3.73 GiB>"
      ]
     },
     "execution_count": 2,
     "metadata": {},
     "output_type": "execute_result"
    }
   ],
   "source": [
    "client = Client(processes=False, threads_per_worker=4,\n",
    "                n_workers=1, memory_limit='4GB')\n",
    "client"
   ]
  },
  {
   "cell_type": "code",
   "execution_count": 17,
   "id": "fde667ba-bd24-4144-a101-527643e76db4",
   "metadata": {},
   "outputs": [],
   "source": [
    "specific = \"S232028\"\n",
    "input_dir = \"../raw_data/\" + specific + '/*.tif'\n",
    "output_dir = \"../hands/\" + specific + '/'\n",
    "os.makedirs(output_dir, exist_ok=True)"
   ]
  },
  {
   "cell_type": "code",
   "execution_count": 18,
   "id": "93ded620-bf86-462b-958c-4f9a244e1da5",
   "metadata": {},
   "outputs": [],
   "source": [
    "filenames = sorted(glob(input_dir), key=alphanumeric_key)\n",
    "# read the first file to get the shape and dtype\n",
    "# ASSUMES THAT ALL FILES SHARE THE SAME SHAPE/TYPE\n",
    "sample = imread(filenames[0])"
   ]
  },
  {
   "cell_type": "code",
   "execution_count": 19,
   "id": "9f0c3b97-5ea0-4257-9d32-9cea17be43d7",
   "metadata": {},
   "outputs": [],
   "source": [
    "lazy_imread = delayed(imread)  # lazy reader\n",
    "lazy_arrays = [lazy_imread(fn) for fn in filenames]\n",
    "dask_arrays = [\n",
    "    da.from_delayed(delayed_reader, shape=sample.shape, dtype=sample.dtype)\n",
    "    for delayed_reader in lazy_arrays\n",
    "]\n",
    "# Stack into one large dask.array\n",
    "ct_scan = da.stack(dask_arrays, axis=0)\n",
    "ct_scan.shape  # (nfiles, nz, ny, nx)\n",
    "\n",
    "spacing = np.array([0.07515304, 0.07513978, 0.075138  ])\n",
    "np.save(f'../spacing/{specific}.npy', spacing)"
   ]
  },
  {
   "cell_type": "code",
   "execution_count": 20,
   "id": "9976c6a9-940b-4a42-8152-4d1bbe48a84c",
   "metadata": {},
   "outputs": [
    {
     "data": {
      "text/html": [
       "<table>\n",
       "    <tr>\n",
       "        <td>\n",
       "            <table style=\"border-collapse: collapse;\">\n",
       "                <thead>\n",
       "                    <tr>\n",
       "                        <td> </td>\n",
       "                        <th> Array </th>\n",
       "                        <th> Chunk </th>\n",
       "                    </tr>\n",
       "                </thead>\n",
       "                <tbody>\n",
       "                    \n",
       "                    <tr>\n",
       "                        <th> Bytes </th>\n",
       "                        <td> 11.87 GiB </td>\n",
       "                        <td> 4.62 MiB </td>\n",
       "                    </tr>\n",
       "                    \n",
       "                    <tr>\n",
       "                        <th> Shape </th>\n",
       "                        <td> (2633, 1325, 1827) </td>\n",
       "                        <td> (1, 1325, 1827) </td>\n",
       "                    </tr>\n",
       "                    <tr>\n",
       "                        <th> Dask graph </th>\n",
       "                        <td colspan=\"2\"> 2633 chunks in 5267 graph layers </td>\n",
       "                    </tr>\n",
       "                    <tr>\n",
       "                        <th> Data type </th>\n",
       "                        <td colspan=\"2\"> uint16 numpy.ndarray </td>\n",
       "                    </tr>\n",
       "                </tbody>\n",
       "            </table>\n",
       "        </td>\n",
       "        <td>\n",
       "        <svg width=\"213\" height=\"180\" style=\"stroke:rgb(0,0,0);stroke-width:1\" >\n",
       "\n",
       "  <!-- Horizontal lines -->\n",
       "  <line x1=\"10\" y1=\"0\" x2=\"80\" y2=\"70\" style=\"stroke-width:2\" />\n",
       "  <line x1=\"10\" y1=\"60\" x2=\"80\" y2=\"130\" style=\"stroke-width:2\" />\n",
       "\n",
       "  <!-- Vertical lines -->\n",
       "  <line x1=\"10\" y1=\"0\" x2=\"10\" y2=\"60\" style=\"stroke-width:2\" />\n",
       "  <line x1=\"13\" y1=\"3\" x2=\"13\" y2=\"64\" />\n",
       "  <line x1=\"17\" y1=\"7\" x2=\"17\" y2=\"67\" />\n",
       "  <line x1=\"21\" y1=\"11\" x2=\"21\" y2=\"71\" />\n",
       "  <line x1=\"24\" y1=\"14\" x2=\"24\" y2=\"75\" />\n",
       "  <line x1=\"28\" y1=\"18\" x2=\"28\" y2=\"78\" />\n",
       "  <line x1=\"32\" y1=\"22\" x2=\"32\" y2=\"82\" />\n",
       "  <line x1=\"36\" y1=\"26\" x2=\"36\" y2=\"86\" />\n",
       "  <line x1=\"39\" y1=\"29\" x2=\"39\" y2=\"90\" />\n",
       "  <line x1=\"43\" y1=\"33\" x2=\"43\" y2=\"93\" />\n",
       "  <line x1=\"47\" y1=\"37\" x2=\"47\" y2=\"97\" />\n",
       "  <line x1=\"50\" y1=\"40\" x2=\"50\" y2=\"101\" />\n",
       "  <line x1=\"54\" y1=\"44\" x2=\"54\" y2=\"104\" />\n",
       "  <line x1=\"58\" y1=\"48\" x2=\"58\" y2=\"108\" />\n",
       "  <line x1=\"62\" y1=\"52\" x2=\"62\" y2=\"112\" />\n",
       "  <line x1=\"65\" y1=\"55\" x2=\"65\" y2=\"116\" />\n",
       "  <line x1=\"69\" y1=\"59\" x2=\"69\" y2=\"119\" />\n",
       "  <line x1=\"73\" y1=\"63\" x2=\"73\" y2=\"123\" />\n",
       "  <line x1=\"76\" y1=\"66\" x2=\"76\" y2=\"127\" />\n",
       "  <line x1=\"80\" y1=\"70\" x2=\"80\" y2=\"130\" style=\"stroke-width:2\" />\n",
       "\n",
       "  <!-- Colored Rectangle -->\n",
       "  <polygon points=\"10.0,0.0 80.58823529411765,70.58823529411765 80.58823529411765,130.97562610308083 10.0,60.38739080896317\" style=\"fill:#8B4903A0;stroke-width:0\"/>\n",
       "\n",
       "  <!-- Horizontal lines -->\n",
       "  <line x1=\"10\" y1=\"0\" x2=\"93\" y2=\"0\" style=\"stroke-width:2\" />\n",
       "  <line x1=\"13\" y1=\"3\" x2=\"96\" y2=\"3\" />\n",
       "  <line x1=\"17\" y1=\"7\" x2=\"100\" y2=\"7\" />\n",
       "  <line x1=\"21\" y1=\"11\" x2=\"104\" y2=\"11\" />\n",
       "  <line x1=\"24\" y1=\"14\" x2=\"108\" y2=\"14\" />\n",
       "  <line x1=\"28\" y1=\"18\" x2=\"111\" y2=\"18\" />\n",
       "  <line x1=\"32\" y1=\"22\" x2=\"115\" y2=\"22\" />\n",
       "  <line x1=\"36\" y1=\"26\" x2=\"119\" y2=\"26\" />\n",
       "  <line x1=\"39\" y1=\"29\" x2=\"122\" y2=\"29\" />\n",
       "  <line x1=\"43\" y1=\"33\" x2=\"126\" y2=\"33\" />\n",
       "  <line x1=\"47\" y1=\"37\" x2=\"130\" y2=\"37\" />\n",
       "  <line x1=\"50\" y1=\"40\" x2=\"134\" y2=\"40\" />\n",
       "  <line x1=\"54\" y1=\"44\" x2=\"137\" y2=\"44\" />\n",
       "  <line x1=\"58\" y1=\"48\" x2=\"141\" y2=\"48\" />\n",
       "  <line x1=\"62\" y1=\"52\" x2=\"145\" y2=\"52\" />\n",
       "  <line x1=\"65\" y1=\"55\" x2=\"148\" y2=\"55\" />\n",
       "  <line x1=\"69\" y1=\"59\" x2=\"152\" y2=\"59\" />\n",
       "  <line x1=\"73\" y1=\"63\" x2=\"156\" y2=\"63\" />\n",
       "  <line x1=\"76\" y1=\"66\" x2=\"160\" y2=\"66\" />\n",
       "  <line x1=\"80\" y1=\"70\" x2=\"163\" y2=\"70\" style=\"stroke-width:2\" />\n",
       "\n",
       "  <!-- Vertical lines -->\n",
       "  <line x1=\"10\" y1=\"0\" x2=\"80\" y2=\"70\" style=\"stroke-width:2\" />\n",
       "  <line x1=\"93\" y1=\"0\" x2=\"163\" y2=\"70\" style=\"stroke-width:2\" />\n",
       "\n",
       "  <!-- Colored Rectangle -->\n",
       "  <polygon points=\"10.0,0.0 93.26623623243448,0.0 163.85447152655212,70.58823529411765 80.58823529411765,70.58823529411765\" style=\"fill:#8B4903A0;stroke-width:0\"/>\n",
       "\n",
       "  <!-- Horizontal lines -->\n",
       "  <line x1=\"80\" y1=\"70\" x2=\"163\" y2=\"70\" style=\"stroke-width:2\" />\n",
       "  <line x1=\"80\" y1=\"130\" x2=\"163\" y2=\"130\" style=\"stroke-width:2\" />\n",
       "\n",
       "  <!-- Vertical lines -->\n",
       "  <line x1=\"80\" y1=\"70\" x2=\"80\" y2=\"130\" style=\"stroke-width:2\" />\n",
       "  <line x1=\"163\" y1=\"70\" x2=\"163\" y2=\"130\" style=\"stroke-width:2\" />\n",
       "\n",
       "  <!-- Colored Rectangle -->\n",
       "  <polygon points=\"80.58823529411765,70.58823529411765 163.85447152655212,70.58823529411765 163.85447152655212,130.97562610308083 80.58823529411765,130.97562610308083\" style=\"fill:#ECB172A0;stroke-width:0\"/>\n",
       "\n",
       "  <!-- Text -->\n",
       "  <text x=\"122.221353\" y=\"150.975626\" font-size=\"1.0rem\" font-weight=\"100\" text-anchor=\"middle\" >1827</text>\n",
       "  <text x=\"183.854472\" y=\"100.781931\" font-size=\"1.0rem\" font-weight=\"100\" text-anchor=\"middle\" transform=\"rotate(-90,183.854472,100.781931)\">1325</text>\n",
       "  <text x=\"35.294118\" y=\"115.681508\" font-size=\"1.0rem\" font-weight=\"100\" text-anchor=\"middle\" transform=\"rotate(45,35.294118,115.681508)\">2633</text>\n",
       "</svg>\n",
       "        </td>\n",
       "    </tr>\n",
       "</table>"
      ],
      "text/plain": [
       "dask.array<stack, shape=(2633, 1325, 1827), dtype=uint16, chunksize=(1, 1325, 1827), chunktype=numpy.ndarray>"
      ]
     },
     "execution_count": 20,
     "metadata": {},
     "output_type": "execute_result"
    }
   ],
   "source": [
    "ct_scan"
   ]
  },
  {
   "cell_type": "markdown",
   "id": "9d65cd84-d974-4952-89e6-1c9e7a215382",
   "metadata": {},
   "source": [
    "### User input needed:\n",
    "\n",
    "First, look at the file using the cell below"
   ]
  },
  {
   "cell_type": "code",
   "execution_count": 8,
   "id": "f5958f8a-807a-4f59-ae0a-254d9901db85",
   "metadata": {},
   "outputs": [],
   "source": [
    "viewer = napari.Viewer()\n",
    "ct_scan_view = viewer.add_image(\n",
    "    ct_scan,\n",
    "    scale=spacing,\n",
    ")"
   ]
  },
  {
   "cell_type": "markdown",
   "id": "2e13093f-ce62-45f8-b975-82e0bcb79173",
   "metadata": {},
   "source": [
    "Then, determine a good subset that only includes the fingers and part of the metacarpals, and use the next cell to compute the subset"
   ]
  },
  {
   "cell_type": "code",
   "execution_count": 21,
   "id": "2b3c25a2-d220-4889-86d1-01fdd06f142c",
   "metadata": {},
   "outputs": [],
   "source": [
    "newtype = np.promote_types(ct_scan.dtype, np.byte)\n",
    "hand = ct_scan.astype(newtype)[1250:,:,:]"
   ]
  },
  {
   "cell_type": "markdown",
   "id": "da422c02-9f4c-45ae-b945-24b58b277989",
   "metadata": {},
   "source": [
    "The cell below calculates the relative maxima of the histogram using an arbitrary limit to how close they can be.  In this case it is set to 50.  We then know that air will be the most common, and something close to soft tissue will be the second most common.  From [here](https://www.sciencedirect.com/topics/medicine-and-dentistry/hounsfield-scale#:~:text=Introduction%20to%20Ultrasound%2C%20CT%2C%20and%20MRI&text=The%20Hounsfield%20scale%20is%20a%20scale%20that%20is%20used%20to,;%20and%20air%2C%20%E2%88%921000.) we know that muscle and soft tissue will range from $20$ to $40$ and fat will range $-30$ to $-70$.  Since soft tissue is close enough to zero, we will assume it is for the rest of our calculations."
   ]
  },
  {
   "cell_type": "code",
   "execution_count": 22,
   "id": "9e6c92e2-28ae-4cd6-925b-76bc2b011c3c",
   "metadata": {},
   "outputs": [
    {
     "name": "stdout",
     "output_type": "stream",
     "text": [
      "air: 21704.0, and water: 23048.0\n"
     ]
    }
   ],
   "source": [
    "hist, bins = da.histogram(hand.ravel(), bins = 2**12, range=[0,2**16])\n",
    "hist = hist.compute()\n",
    "\n",
    "hist_centers = bins[:-1] + (bins[1]/2)\n",
    "#Compute the relative maximum - in this case within 50.  50 was chosen arbitrarily.  This outputs the indices.\n",
    "rel_max_i = sp.signal.argrelmax(hist, order=50)[0]\n",
    "#Put these indices back into the histogram to figure out which are the top two\n",
    "rel_maxes = np.array([hist[i] for i in rel_max_i]) #There is probably a more numpy way to do this\n",
    "water_i, air_i = [rel_max_i[j] for j in rel_maxes.argsort()[-2:]]\n",
    "#Our best estimate for water and air will be at the center of the histogram bins that are first and second most common:\n",
    "water, air = [hist_centers[i] for i in [water_i, air_i]]\n",
    "print(f'air: {air}, and water: {water}')"
   ]
  },
  {
   "cell_type": "code",
   "execution_count": 25,
   "id": "34b0fa56-0a74-4c40-930e-9fee10ae4be0",
   "metadata": {},
   "outputs": [],
   "source": [
    "#air = 20808\n",
    "#water = 22216\n",
    "air = 21704.0\n",
    "water = 23048.0"
   ]
  },
  {
   "cell_type": "code",
   "execution_count": 26,
   "id": "d9211778-11e5-4127-9a5b-870a3fe80a60",
   "metadata": {},
   "outputs": [
    {
     "data": {
      "text/plain": [
       "Text(0.5, 1.0, 'histogram of gray values')"
      ]
     },
     "execution_count": 26,
     "metadata": {},
     "output_type": "execute_result"
    },
    {
     "data": {
      "image/png": "[encoded data removed]",
      "text/plain": [
       "<Figure size 640x480 with 1 Axes>"
      ]
     },
     "metadata": {},
     "output_type": "display_data"
    }
   ],
   "source": [
    "maxh = np.max(hist)\n",
    "fig, axes = plt.subplots()\n",
    "axes.plot(hist_centers, hist, lw=2)\n",
    "axes.set_yscale('log')\n",
    "axes.vlines([air,water], ymin = 0, ymax = maxh*4, color = 'red')\n",
    "axes.set_title('histogram of gray values')"
   ]
  },
  {
   "cell_type": "markdown",
   "id": "5919ca92-6545-4231-930e-5bec2ac33d5a",
   "metadata": {},
   "source": [
    "In some intances, like when a patient had a metal joint replacement, this method did not work"
   ]
  },
  {
   "cell_type": "code",
   "execution_count": 27,
   "id": "b83ccb8f-c3b9-45a4-93de-e0a26e7ca2f4",
   "metadata": {},
   "outputs": [],
   "source": [
    "hand = (hand - water) // ((water-air) // 1000)"
   ]
  },
  {
   "cell_type": "code",
   "execution_count": 28,
   "id": "c26fa920-d166-44c8-946d-7908f51c10bb",
   "metadata": {},
   "outputs": [
    {
     "data": {
      "text/html": [
       "<table>\n",
       "    <tr>\n",
       "        <td>\n",
       "            <table style=\"border-collapse: collapse;\">\n",
       "                <thead>\n",
       "                    <tr>\n",
       "                        <td> </td>\n",
       "                        <th> Array </th>\n",
       "                        <th> Chunk </th>\n",
       "                    </tr>\n",
       "                </thead>\n",
       "                <tbody>\n",
       "                    \n",
       "                    <tr>\n",
       "                        <th> Bytes </th>\n",
       "                        <td> 24.94 GiB </td>\n",
       "                        <td> 18.47 MiB </td>\n",
       "                    </tr>\n",
       "                    \n",
       "                    <tr>\n",
       "                        <th> Shape </th>\n",
       "                        <td> (1383, 1325, 1827) </td>\n",
       "                        <td> (1, 1325, 1827) </td>\n",
       "                    </tr>\n",
       "                    <tr>\n",
       "                        <th> Dask graph </th>\n",
       "                        <td colspan=\"2\"> 1383 chunks in 5271 graph layers </td>\n",
       "                    </tr>\n",
       "                    <tr>\n",
       "                        <th> Data type </th>\n",
       "                        <td colspan=\"2\"> float64 numpy.ndarray </td>\n",
       "                    </tr>\n",
       "                </tbody>\n",
       "            </table>\n",
       "        </td>\n",
       "        <td>\n",
       "        <svg width=\"233\" height=\"190\" style=\"stroke:rgb(0,0,0);stroke-width:1\" >\n",
       "\n",
       "  <!-- Horizontal lines -->\n",
       "  <line x1=\"10\" y1=\"0\" x2=\"63\" y2=\"53\" style=\"stroke-width:2\" />\n",
       "  <line x1=\"10\" y1=\"87\" x2=\"63\" y2=\"140\" style=\"stroke-width:2\" />\n",
       "\n",
       "  <!-- Vertical lines -->\n",
       "  <line x1=\"10\" y1=\"0\" x2=\"10\" y2=\"87\" style=\"stroke-width:2\" />\n",
       "  <line x1=\"12\" y1=\"2\" x2=\"12\" y2=\"89\" />\n",
       "  <line x1=\"15\" y1=\"5\" x2=\"15\" y2=\"92\" />\n",
       "  <line x1=\"18\" y1=\"8\" x2=\"18\" y2=\"95\" />\n",
       "  <line x1=\"21\" y1=\"11\" x2=\"21\" y2=\"98\" />\n",
       "  <line x1=\"24\" y1=\"14\" x2=\"24\" y2=\"101\" />\n",
       "  <line x1=\"26\" y1=\"16\" x2=\"26\" y2=\"103\" />\n",
       "  <line x1=\"29\" y1=\"19\" x2=\"29\" y2=\"106\" />\n",
       "  <line x1=\"32\" y1=\"22\" x2=\"32\" y2=\"109\" />\n",
       "  <line x1=\"35\" y1=\"25\" x2=\"35\" y2=\"112\" />\n",
       "  <line x1=\"38\" y1=\"28\" x2=\"38\" y2=\"115\" />\n",
       "  <line x1=\"40\" y1=\"30\" x2=\"40\" y2=\"117\" />\n",
       "  <line x1=\"43\" y1=\"33\" x2=\"43\" y2=\"120\" />\n",
       "  <line x1=\"46\" y1=\"36\" x2=\"46\" y2=\"123\" />\n",
       "  <line x1=\"49\" y1=\"39\" x2=\"49\" y2=\"126\" />\n",
       "  <line x1=\"52\" y1=\"42\" x2=\"52\" y2=\"129\" />\n",
       "  <line x1=\"54\" y1=\"44\" x2=\"54\" y2=\"132\" />\n",
       "  <line x1=\"57\" y1=\"47\" x2=\"57\" y2=\"134\" />\n",
       "  <line x1=\"60\" y1=\"50\" x2=\"60\" y2=\"137\" />\n",
       "  <line x1=\"63\" y1=\"53\" x2=\"63\" y2=\"140\" style=\"stroke-width:2\" />\n",
       "\n",
       "  <!-- Colored Rectangle -->\n",
       "  <polygon points=\"10.0,0.0 63.43378730802665,53.43378730802665 63.43378730802665,140.46170192214817 10.0,87.0279146141215\" style=\"fill:#8B4903A0;stroke-width:0\"/>\n",
       "\n",
       "  <!-- Horizontal lines -->\n",
       "  <line x1=\"10\" y1=\"0\" x2=\"130\" y2=\"0\" style=\"stroke-width:2\" />\n",
       "  <line x1=\"12\" y1=\"2\" x2=\"132\" y2=\"2\" />\n",
       "  <line x1=\"15\" y1=\"5\" x2=\"135\" y2=\"5\" />\n",
       "  <line x1=\"18\" y1=\"8\" x2=\"138\" y2=\"8\" />\n",
       "  <line x1=\"21\" y1=\"11\" x2=\"141\" y2=\"11\" />\n",
       "  <line x1=\"24\" y1=\"14\" x2=\"144\" y2=\"14\" />\n",
       "  <line x1=\"26\" y1=\"16\" x2=\"146\" y2=\"16\" />\n",
       "  <line x1=\"29\" y1=\"19\" x2=\"149\" y2=\"19\" />\n",
       "  <line x1=\"32\" y1=\"22\" x2=\"152\" y2=\"22\" />\n",
       "  <line x1=\"35\" y1=\"25\" x2=\"155\" y2=\"25\" />\n",
       "  <line x1=\"38\" y1=\"28\" x2=\"158\" y2=\"28\" />\n",
       "  <line x1=\"40\" y1=\"30\" x2=\"160\" y2=\"30\" />\n",
       "  <line x1=\"43\" y1=\"33\" x2=\"163\" y2=\"33\" />\n",
       "  <line x1=\"46\" y1=\"36\" x2=\"166\" y2=\"36\" />\n",
       "  <line x1=\"49\" y1=\"39\" x2=\"169\" y2=\"39\" />\n",
       "  <line x1=\"52\" y1=\"42\" x2=\"172\" y2=\"42\" />\n",
       "  <line x1=\"54\" y1=\"44\" x2=\"174\" y2=\"44\" />\n",
       "  <line x1=\"57\" y1=\"47\" x2=\"177\" y2=\"47\" />\n",
       "  <line x1=\"60\" y1=\"50\" x2=\"180\" y2=\"50\" />\n",
       "  <line x1=\"63\" y1=\"53\" x2=\"183\" y2=\"53\" style=\"stroke-width:2\" />\n",
       "\n",
       "  <!-- Vertical lines -->\n",
       "  <line x1=\"10\" y1=\"0\" x2=\"63\" y2=\"53\" style=\"stroke-width:2\" />\n",
       "  <line x1=\"130\" y1=\"0\" x2=\"183\" y2=\"53\" style=\"stroke-width:2\" />\n",
       "\n",
       "  <!-- Colored Rectangle -->\n",
       "  <polygon points=\"10.0,0.0 130.0,0.0 183.43378730802664,53.43378730802665 63.43378730802665,53.43378730802665\" style=\"fill:#8B4903A0;stroke-width:0\"/>\n",
       "\n",
       "  <!-- Horizontal lines -->\n",
       "  <line x1=\"63\" y1=\"53\" x2=\"183\" y2=\"53\" style=\"stroke-width:2\" />\n",
       "  <line x1=\"63\" y1=\"140\" x2=\"183\" y2=\"140\" style=\"stroke-width:2\" />\n",
       "\n",
       "  <!-- Vertical lines -->\n",
       "  <line x1=\"63\" y1=\"53\" x2=\"63\" y2=\"140\" style=\"stroke-width:2\" />\n",
       "  <line x1=\"183\" y1=\"53\" x2=\"183\" y2=\"140\" style=\"stroke-width:2\" />\n",
       "\n",
       "  <!-- Colored Rectangle -->\n",
       "  <polygon points=\"63.43378730802665,53.43378730802665 183.43378730802664,53.43378730802665 183.43378730802664,140.46170192214817 63.43378730802665,140.46170192214817\" style=\"fill:#ECB172A0;stroke-width:0\"/>\n",
       "\n",
       "  <!-- Text -->\n",
       "  <text x=\"123.433787\" y=\"160.461702\" font-size=\"1.0rem\" font-weight=\"100\" text-anchor=\"middle\" >1827</text>\n",
       "  <text x=\"203.433787\" y=\"96.947745\" font-size=\"1.0rem\" font-weight=\"100\" text-anchor=\"middle\" transform=\"rotate(-90,203.433787,96.947745)\">1325</text>\n",
       "  <text x=\"26.716894\" y=\"133.744808\" font-size=\"1.0rem\" font-weight=\"100\" text-anchor=\"middle\" transform=\"rotate(45,26.716894,133.744808)\">1383</text>\n",
       "</svg>\n",
       "        </td>\n",
       "    </tr>\n",
       "</table>"
      ],
      "text/plain": [
       "dask.array<floordiv, shape=(1383, 1325, 1827), dtype=float64, chunksize=(1, 1325, 1827), chunktype=numpy.ndarray>"
      ]
     },
     "execution_count": 28,
     "metadata": {},
     "output_type": "execute_result"
    }
   ],
   "source": [
    "hand"
   ]
  },
  {
   "cell_type": "code",
   "execution_count": null,
   "id": "93487b32-64c7-4490-8413-387b93930a1d",
   "metadata": {},
   "outputs": [],
   "source": [
    "da.to_npy_stack(output_dir, hand)"
   ]
  },
  {
   "cell_type": "markdown",
   "id": "8953ff6b-b1bd-4a66-a546-680de188fed2",
   "metadata": {},
   "source": [
    "Optionally, you can view the file to make sure you saved the correct subset"
   ]
  },
  {
   "cell_type": "code",
   "execution_count": 18,
   "id": "84276649-aee4-4c94-94d4-c36d1f1f22b4",
   "metadata": {},
   "outputs": [],
   "source": [
    "hand = da.from_npy_stack(output_dir)"
   ]
  },
  {
   "cell_type": "code",
   "execution_count": null,
   "id": "793fde9b-4dae-4f52-b954-016b673ff35f",
   "metadata": {},
   "outputs": [],
   "source": [
    "viewer = napari.Viewer() \n",
    "viewer.add_image(hand)"
   ]
  },
  {
   "cell_type": "markdown",
   "id": "94caccf1-6b92-4f52-a7e0-be7db2f82171",
   "metadata": {},
   "source": [
    "Sometimes we get voxel spacing from a picture of Fred's computer:"
   ]
  },
  {
   "cell_type": "code",
   "execution_count": 19,
   "id": "ba3c20ac-530e-4db8-9de0-dd08d17ef20d",
   "metadata": {},
   "outputs": [
    {
     "name": "stdout",
     "output_type": "stream",
     "text": [
      "x:0.07515304496300512, y:0.07513977528089888, z:0.07513799846625767\n"
     ]
    }
   ],
   "source": [
    "xs = 132.0439/1757\n",
    "ys = 100.3116/1335\n",
    "zs = 195.9599/2608\n",
    "print(f'x:{xs}, y:{ys}, z:{zs}')\n"
   ]
  },
  {
   "cell_type": "code",
   "execution_count": 20,
   "id": "f461aaf3-4641-4f26-8398-34cb0e376875",
   "metadata": {},
   "outputs": [],
   "source": [
    "spacing = np.array([xs,ys,zs])\n",
    "np.save('../spacing/' + specific + '.npy', spacing)"
   ]
  },
  {
   "cell_type": "code",
   "execution_count": null,
   "id": "b782a407-9973-4163-98e9-ba5c3f918c1b",
   "metadata": {},
   "outputs": [],
   "source": []
  }
 ],
 "metadata": {
  "kernelspec": {
   "display_name": "Python 3 (ipykernel)",
   "language": "python",
   "name": "python3"
  },
  "language_info": {
   "codemirror_mode": {
    "name": "ipython",
    "version": 3
   },
   "file_extension": ".py",
   "mimetype": "text/x-python",
   "name": "python",
   "nbconvert_exporter": "python",
   "pygments_lexer": "ipython3",
   "version": "3.13.5"
  }
 },
 "nbformat": 4,
 "nbformat_minor": 5
}
