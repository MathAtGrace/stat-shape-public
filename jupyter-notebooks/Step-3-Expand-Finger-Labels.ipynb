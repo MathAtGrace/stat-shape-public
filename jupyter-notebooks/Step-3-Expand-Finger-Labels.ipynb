{
 "cells": [
  {
   "cell_type": "code",
   "execution_count": null,
   "id": "39a4b839-0d1a-4acf-9f5f-af98acf7bb2f",
   "metadata": {},
   "outputs": [],
   "source": [
    "#Use this code whenever we've updated the environment.yml document\n",
    "#%conda env update --file '../environment.yml'  --prune"
   ]
  },
  {
   "cell_type": "code",
   "execution_count": 1,
   "id": "cb3b70e1-4996-4485-81fb-dd1c44ccd5a1",
   "metadata": {},
   "outputs": [],
   "source": [
    "import scipy as sp\n",
    "import numpy as np\n",
    "import os\n",
    "from tqdm.auto import tqdm\n",
    "from hurry.filesize import size\n",
    "\n",
    "from skimage.segmentation import expand_labels\n",
    "\n",
    "from dask_image import ndmeasure\n",
    "from dask import array as da\n",
    "from dask.distributed import Client, progress\n",
    "\n",
    "import napari"
   ]
  },
  {
   "cell_type": "markdown",
   "id": "78380484-b389-4160-b996-2e5d2ac146c1",
   "metadata": {},
   "source": [
    "# Expand Finger Labels and Save Individual Fingers\n",
    "\n",
    "This notebook takes a dask array of labeled bones in the hand for a relatively high-threshold so that metacarpals and proximal phalanges are distinct.  It then expands those labels so that they do not overlab until they inlude all of the interior of each finger.  It then uses those expanded labels as masks to save the individual fingers to their own files.  The fingers must be labeled such that index = 1, middle = 2, ring = 3, and pinky = 4."
   ]
  },
  {
   "cell_type": "code",
   "execution_count": 2,
   "id": "2565b071-f255-4ab6-b0e6-3c5ad7b20c14",
   "metadata": {},
   "outputs": [
    {
     "data": {
      "text/html": [
       "<div>\n",
       "    <div style=\"width: 24px; height: 24px; background-color: #e1e1e1; border: 3px solid #9D9D9D; border-radius: 5px; position: absolute;\"> </div>\n",
       "    <div style=\"margin-left: 48px;\">\n",
       "        <h3 style=\"margin-bottom: 0px;\">Client</h3>\n",
       "        <p style=\"color: #9D9D9D; margin-bottom: 0px;\">Client-7da4de37-67ec-11f0-8950-e454e882ab19</p>\n",
       "        <table style=\"width: 100%; text-align: left;\">\n",
       "\n",
       "        <tr>\n",
       "        \n",
       "            <td style=\"text-align: left;\"><strong>Connection method:</strong> Cluster object</td>\n",
       "            <td style=\"text-align: left;\"><strong>Cluster type:</strong> distributed.LocalCluster</td>\n",
       "        \n",
       "        </tr>\n",
       "\n",
       "        \n",
       "            <tr>\n",
       "                <td style=\"text-align: left;\">\n",
       "                    <strong>Dashboard: </strong> <a href=\"http://172.19.111.216:8787/status\" target=\"_blank\">http://172.19.111.216:8787/status</a>\n",
       "                </td>\n",
       "                <td style=\"text-align: left;\"></td>\n",
       "            </tr>\n",
       "        \n",
       "\n",
       "        </table>\n",
       "\n",
       "        \n",
       "\n",
       "        \n",
       "            <details>\n",
       "            <summary style=\"margin-bottom: 20px;\"><h3 style=\"display: inline;\">Cluster Info</h3></summary>\n",
       "            <div class=\"jp-RenderedHTMLCommon jp-RenderedHTML jp-mod-trusted jp-OutputArea-output\">\n",
       "    <div style=\"width: 24px; height: 24px; background-color: #e1e1e1; border: 3px solid #9D9D9D; border-radius: 5px; position: absolute;\">\n",
       "    </div>\n",
       "    <div style=\"margin-left: 48px;\">\n",
       "        <h3 style=\"margin-bottom: 0px; margin-top: 0px;\">LocalCluster</h3>\n",
       "        <p style=\"color: #9D9D9D; margin-bottom: 0px;\">e5de34a1</p>\n",
       "        <table style=\"width: 100%; text-align: left;\">\n",
       "            <tr>\n",
       "                <td style=\"text-align: left;\">\n",
       "                    <strong>Dashboard:</strong> <a href=\"http://172.19.111.216:8787/status\" target=\"_blank\">http://172.19.111.216:8787/status</a>\n",
       "                </td>\n",
       "                <td style=\"text-align: left;\">\n",
       "                    <strong>Workers:</strong> 1\n",
       "                </td>\n",
       "            </tr>\n",
       "            <tr>\n",
       "                <td style=\"text-align: left;\">\n",
       "                    <strong>Total threads:</strong> 6\n",
       "                </td>\n",
       "                <td style=\"text-align: left;\">\n",
       "                    <strong>Total memory:</strong> 11.18 GiB\n",
       "                </td>\n",
       "            </tr>\n",
       "            \n",
       "            <tr>\n",
       "    <td style=\"text-align: left;\"><strong>Status:</strong> running</td>\n",
       "    <td style=\"text-align: left;\"><strong>Using processes:</strong> False</td>\n",
       "</tr>\n",
       "\n",
       "            \n",
       "        </table>\n",
       "\n",
       "        <details>\n",
       "            <summary style=\"margin-bottom: 20px;\">\n",
       "                <h3 style=\"display: inline;\">Scheduler Info</h3>\n",
       "            </summary>\n",
       "\n",
       "            <div style=\"\">\n",
       "    <div>\n",
       "        <div style=\"width: 24px; height: 24px; background-color: #FFF7E5; border: 3px solid #FF6132; border-radius: 5px; position: absolute;\"> </div>\n",
       "        <div style=\"margin-left: 48px;\">\n",
       "            <h3 style=\"margin-bottom: 0px;\">Scheduler</h3>\n",
       "            <p style=\"color: #9D9D9D; margin-bottom: 0px;\">Scheduler-35484938-673e-4e05-9272-e6b809ff4bd2</p>\n",
       "            <table style=\"width: 100%; text-align: left;\">\n",
       "                <tr>\n",
       "                    <td style=\"text-align: left;\">\n",
       "                        <strong>Comm:</strong> inproc://172.19.111.216/2384/1\n",
       "                    </td>\n",
       "                    <td style=\"text-align: left;\">\n",
       "                        <strong>Workers:</strong> 0 \n",
       "                    </td>\n",
       "                </tr>\n",
       "                <tr>\n",
       "                    <td style=\"text-align: left;\">\n",
       "                        <strong>Dashboard:</strong> <a href=\"http://172.19.111.216:8787/status\" target=\"_blank\">http://172.19.111.216:8787/status</a>\n",
       "                    </td>\n",
       "                    <td style=\"text-align: left;\">\n",
       "                        <strong>Total threads:</strong> 0\n",
       "                    </td>\n",
       "                </tr>\n",
       "                <tr>\n",
       "                    <td style=\"text-align: left;\">\n",
       "                        <strong>Started:</strong> Just now\n",
       "                    </td>\n",
       "                    <td style=\"text-align: left;\">\n",
       "                        <strong>Total memory:</strong> 0 B\n",
       "                    </td>\n",
       "                </tr>\n",
       "            </table>\n",
       "        </div>\n",
       "    </div>\n",
       "\n",
       "    <details style=\"margin-left: 48px;\">\n",
       "        <summary style=\"margin-bottom: 20px;\">\n",
       "            <h3 style=\"display: inline;\">Workers</h3>\n",
       "        </summary>\n",
       "\n",
       "        \n",
       "        <div style=\"margin-bottom: 20px;\">\n",
       "            <div style=\"width: 24px; height: 24px; background-color: #DBF5FF; border: 3px solid #4CC9FF; border-radius: 5px; position: absolute;\"> </div>\n",
       "            <div style=\"margin-left: 48px;\">\n",
       "            <details>\n",
       "                <summary>\n",
       "                    <h4 style=\"margin-bottom: 0px; display: inline;\">Worker: 0</h4>\n",
       "                </summary>\n",
       "                <table style=\"width: 100%; text-align: left;\">\n",
       "                    <tr>\n",
       "                        <td style=\"text-align: left;\">\n",
       "                            <strong>Comm: </strong> inproc://172.19.111.216/2384/4\n",
       "                        </td>\n",
       "                        <td style=\"text-align: left;\">\n",
       "                            <strong>Total threads: </strong> 6\n",
       "                        </td>\n",
       "                    </tr>\n",
       "                    <tr>\n",
       "                        <td style=\"text-align: left;\">\n",
       "                            <strong>Dashboard: </strong> <a href=\"http://172.19.111.216:57379/status\" target=\"_blank\">http://172.19.111.216:57379/status</a>\n",
       "                        </td>\n",
       "                        <td style=\"text-align: left;\">\n",
       "                            <strong>Memory: </strong> 11.18 GiB\n",
       "                        </td>\n",
       "                    </tr>\n",
       "                    <tr>\n",
       "                        <td style=\"text-align: left;\">\n",
       "                            <strong>Nanny: </strong> None\n",
       "                        </td>\n",
       "                        <td style=\"text-align: left;\"></td>\n",
       "                    </tr>\n",
       "                    <tr>\n",
       "                        <td colspan=\"2\" style=\"text-align: left;\">\n",
       "                            <strong>Local directory: </strong> C:\\Users\\johnsor\\AppData\\Local\\Temp\\dask-scratch-space\\worker-atkcm20u\n",
       "                        </td>\n",
       "                    </tr>\n",
       "\n",
       "                    \n",
       "\n",
       "                    \n",
       "\n",
       "                </table>\n",
       "            </details>\n",
       "            </div>\n",
       "        </div>\n",
       "        \n",
       "\n",
       "    </details>\n",
       "</div>\n",
       "\n",
       "        </details>\n",
       "    </div>\n",
       "</div>\n",
       "            </details>\n",
       "        \n",
       "\n",
       "    </div>\n",
       "</div>"
      ],
      "text/plain": [
       "<Client: 'inproc://172.19.111.216/2384/1' processes=1 threads=6, memory=11.18 GiB>"
      ]
     },
     "execution_count": 2,
     "metadata": {},
     "output_type": "execute_result"
    }
   ],
   "source": [
    "client = Client(processes=False, threads_per_worker=6,\n",
    "                n_workers=1, memory_limit='12GB')\n",
    "client"
   ]
  },
  {
   "cell_type": "markdown",
   "id": "df3a8d3e-1a4f-4828-87e5-4eddcacb8d46",
   "metadata": {},
   "source": [
    "### User Input\n",
    "\n",
    "These are the user inputs needed for this algorithm to work properly.  Specifically:\n",
    " - `specific` is the name of the folder where the input data is located.\n",
    " - `d` will be the depth of the label blocks to use when we expand the labels.\n",
    " - `num_rounds_expand_labels` will be the number of iterations that we expand the labels for a distance of $\\dfrac{d}{2}$."
   ]
  },
  {
   "cell_type": "code",
   "execution_count": 3,
   "id": "9745bfa8-3fc5-4df7-abba-9056c4c078bf",
   "metadata": {},
   "outputs": [],
   "source": [
    "specific = 'F231006L'\n",
    "d = 20\n",
    "num_rounds_expand_labels = 4"
   ]
  },
  {
   "cell_type": "markdown",
   "id": "117cfb20-5ebb-40e9-816b-cd35254fedd9",
   "metadata": {},
   "source": [
    "Next, we define the various directories we will need, and we will create them if they do not yet already exist."
   ]
  },
  {
   "cell_type": "code",
   "execution_count": 4,
   "id": "fde667ba-bd24-4144-a101-527643e76db4",
   "metadata": {},
   "outputs": [],
   "source": [
    "hand_dir = '../hands/' + specific + '/'\n",
    "temp_finger_labels = '../hands/' + specific + '_temp_finger_labels/'\n",
    "temp_block_labels = '../hands/' + specific + '_temp_finger_blocks/'\n",
    "temp_dir = 'temp/'\n",
    "finger_dir = {1: '../fingers/index/full/' + specific + '/',\n",
    "              2: '../fingers/middle/full/' + specific + '/',\n",
    "              3: '../fingers/ring/full/' + specific + '/',\n",
    "              4: '../fingers/pinky/full/' + specific + '/',\n",
    "             }\n",
    "for d in [temp_dir, temp_finger_labels, temp_block_labels] + list(finger_dir.values()):\n",
    "    os.makedirs(d, exist_ok=True)"
   ]
  },
  {
   "cell_type": "code",
   "execution_count": 5,
   "id": "93487b32-64c7-4490-8413-387b93930a1d",
   "metadata": {},
   "outputs": [],
   "source": [
    "hand = da.from_npy_stack(hand_dir)\n",
    "labels = da.from_npy_stack(temp_finger_labels)\n",
    "spacing = np.load('../spacing/' + specific + '.npy')"
   ]
  },
  {
   "cell_type": "code",
   "execution_count": 6,
   "id": "a37d94fb-5f8a-4fa8-9573-21ad12d2f703",
   "metadata": {},
   "outputs": [],
   "source": [
    "labels = da.from_npy_stack(temp_finger_labels)"
   ]
  },
  {
   "cell_type": "code",
   "execution_count": 7,
   "id": "8ad4e6f5-bc4e-407f-8627-ba07a927801c",
   "metadata": {},
   "outputs": [
    {
     "data": {
      "text/html": [
       "<table>\n",
       "    <tr>\n",
       "        <td>\n",
       "            <table style=\"border-collapse: collapse;\">\n",
       "                <thead>\n",
       "                    <tr>\n",
       "                        <td> </td>\n",
       "                        <th> Array </th>\n",
       "                        <th> Chunk </th>\n",
       "                    </tr>\n",
       "                </thead>\n",
       "                <tbody>\n",
       "                    \n",
       "                    <tr>\n",
       "                        <th> Bytes </th>\n",
       "                        <td> 2.79 GiB </td>\n",
       "                        <td> 127.51 MiB </td>\n",
       "                    </tr>\n",
       "                    \n",
       "                    <tr>\n",
       "                        <th> Shape </th>\n",
       "                        <td> (1278, 1335, 1757) </td>\n",
       "                        <td> (57, 1335, 1757) </td>\n",
       "                    </tr>\n",
       "                    <tr>\n",
       "                        <th> Dask graph </th>\n",
       "                        <td colspan=\"2\"> 23 chunks in 1 graph layer </td>\n",
       "                    </tr>\n",
       "                    <tr>\n",
       "                        <th> Data type </th>\n",
       "                        <td colspan=\"2\"> int8 numpy.ndarray </td>\n",
       "                    </tr>\n",
       "                </tbody>\n",
       "            </table>\n",
       "        </td>\n",
       "        <td>\n",
       "        <svg width=\"231\" height=\"192\" style=\"stroke:rgb(0,0,0);stroke-width:1\" >\n",
       "\n",
       "  <!-- Horizontal lines -->\n",
       "  <line x1=\"10\" y1=\"0\" x2=\"61\" y2=\"51\" style=\"stroke-width:2\" />\n",
       "  <line x1=\"10\" y1=\"91\" x2=\"61\" y2=\"142\" style=\"stroke-width:2\" />\n",
       "\n",
       "  <!-- Vertical lines -->\n",
       "  <line x1=\"10\" y1=\"0\" x2=\"10\" y2=\"91\" style=\"stroke-width:2\" />\n",
       "  <line x1=\"12\" y1=\"2\" x2=\"12\" y2=\"93\" />\n",
       "  <line x1=\"14\" y1=\"4\" x2=\"14\" y2=\"95\" />\n",
       "  <line x1=\"16\" y1=\"6\" x2=\"16\" y2=\"98\" />\n",
       "  <line x1=\"19\" y1=\"9\" x2=\"19\" y2=\"100\" />\n",
       "  <line x1=\"23\" y1=\"13\" x2=\"23\" y2=\"104\" />\n",
       "  <line x1=\"26\" y1=\"16\" x2=\"26\" y2=\"107\" />\n",
       "  <line x1=\"28\" y1=\"18\" x2=\"28\" y2=\"109\" />\n",
       "  <line x1=\"30\" y1=\"20\" x2=\"30\" y2=\"111\" />\n",
       "  <line x1=\"32\" y1=\"22\" x2=\"32\" y2=\"114\" />\n",
       "  <line x1=\"37\" y1=\"27\" x2=\"37\" y2=\"118\" />\n",
       "  <line x1=\"39\" y1=\"29\" x2=\"39\" y2=\"120\" />\n",
       "  <line x1=\"42\" y1=\"32\" x2=\"42\" y2=\"123\" />\n",
       "  <line x1=\"44\" y1=\"34\" x2=\"44\" y2=\"125\" />\n",
       "  <line x1=\"46\" y1=\"36\" x2=\"46\" y2=\"127\" />\n",
       "  <line x1=\"51\" y1=\"41\" x2=\"51\" y2=\"132\" />\n",
       "  <line x1=\"53\" y1=\"43\" x2=\"53\" y2=\"134\" />\n",
       "  <line x1=\"55\" y1=\"45\" x2=\"55\" y2=\"136\" />\n",
       "  <line x1=\"58\" y1=\"48\" x2=\"58\" y2=\"139\" />\n",
       "  <line x1=\"61\" y1=\"51\" x2=\"61\" y2=\"142\" style=\"stroke-width:2\" />\n",
       "\n",
       "  <!-- Colored Rectangle -->\n",
       "  <polygon points=\"10.0,0.0 61.34420301985337,51.34420301985337 61.34420301985337,142.52234758445212 10.0,91.17814456459875\" style=\"fill:#8B4903A0;stroke-width:0\"/>\n",
       "\n",
       "  <!-- Horizontal lines -->\n",
       "  <line x1=\"10\" y1=\"0\" x2=\"130\" y2=\"0\" style=\"stroke-width:2\" />\n",
       "  <line x1=\"12\" y1=\"2\" x2=\"132\" y2=\"2\" />\n",
       "  <line x1=\"14\" y1=\"4\" x2=\"134\" y2=\"4\" />\n",
       "  <line x1=\"16\" y1=\"6\" x2=\"136\" y2=\"6\" />\n",
       "  <line x1=\"19\" y1=\"9\" x2=\"139\" y2=\"9\" />\n",
       "  <line x1=\"23\" y1=\"13\" x2=\"143\" y2=\"13\" />\n",
       "  <line x1=\"26\" y1=\"16\" x2=\"146\" y2=\"16\" />\n",
       "  <line x1=\"28\" y1=\"18\" x2=\"148\" y2=\"18\" />\n",
       "  <line x1=\"30\" y1=\"20\" x2=\"150\" y2=\"20\" />\n",
       "  <line x1=\"32\" y1=\"22\" x2=\"152\" y2=\"22\" />\n",
       "  <line x1=\"37\" y1=\"27\" x2=\"157\" y2=\"27\" />\n",
       "  <line x1=\"39\" y1=\"29\" x2=\"159\" y2=\"29\" />\n",
       "  <line x1=\"42\" y1=\"32\" x2=\"162\" y2=\"32\" />\n",
       "  <line x1=\"44\" y1=\"34\" x2=\"164\" y2=\"34\" />\n",
       "  <line x1=\"46\" y1=\"36\" x2=\"166\" y2=\"36\" />\n",
       "  <line x1=\"51\" y1=\"41\" x2=\"171\" y2=\"41\" />\n",
       "  <line x1=\"53\" y1=\"43\" x2=\"173\" y2=\"43\" />\n",
       "  <line x1=\"55\" y1=\"45\" x2=\"175\" y2=\"45\" />\n",
       "  <line x1=\"58\" y1=\"48\" x2=\"178\" y2=\"48\" />\n",
       "  <line x1=\"61\" y1=\"51\" x2=\"181\" y2=\"51\" style=\"stroke-width:2\" />\n",
       "\n",
       "  <!-- Vertical lines -->\n",
       "  <line x1=\"10\" y1=\"0\" x2=\"61\" y2=\"51\" style=\"stroke-width:2\" />\n",
       "  <line x1=\"130\" y1=\"0\" x2=\"181\" y2=\"51\" style=\"stroke-width:2\" />\n",
       "\n",
       "  <!-- Colored Rectangle -->\n",
       "  <polygon points=\"10.0,0.0 130.0,0.0 181.34420301985335,51.34420301985337 61.34420301985337,51.34420301985337\" style=\"fill:#8B4903A0;stroke-width:0\"/>\n",
       "\n",
       "  <!-- Horizontal lines -->\n",
       "  <line x1=\"61\" y1=\"51\" x2=\"181\" y2=\"51\" style=\"stroke-width:2\" />\n",
       "  <line x1=\"61\" y1=\"142\" x2=\"181\" y2=\"142\" style=\"stroke-width:2\" />\n",
       "\n",
       "  <!-- Vertical lines -->\n",
       "  <line x1=\"61\" y1=\"51\" x2=\"61\" y2=\"142\" style=\"stroke-width:2\" />\n",
       "  <line x1=\"181\" y1=\"51\" x2=\"181\" y2=\"142\" style=\"stroke-width:2\" />\n",
       "\n",
       "  <!-- Colored Rectangle -->\n",
       "  <polygon points=\"61.34420301985337,51.34420301985337 181.34420301985335,51.34420301985337 181.34420301985335,142.52234758445212 61.34420301985337,142.52234758445212\" style=\"fill:#ECB172A0;stroke-width:0\"/>\n",
       "\n",
       "  <!-- Text -->\n",
       "  <text x=\"121.344203\" y=\"162.522348\" font-size=\"1.0rem\" font-weight=\"100\" text-anchor=\"middle\" >1757</text>\n",
       "  <text x=\"201.344203\" y=\"96.933275\" font-size=\"1.0rem\" font-weight=\"100\" text-anchor=\"middle\" transform=\"rotate(-90,201.344203,96.933275)\">1335</text>\n",
       "  <text x=\"25.672102\" y=\"136.850246\" font-size=\"1.0rem\" font-weight=\"100\" text-anchor=\"middle\" transform=\"rotate(45,25.672102,136.850246)\">1278</text>\n",
       "</svg>\n",
       "        </td>\n",
       "    </tr>\n",
       "</table>"
      ],
      "text/plain": [
       "dask.array<from-npy-stack, shape=(1278, 1335, 1757), dtype=int8, chunksize=(57, 1335, 1757), chunktype=numpy.ndarray>"
      ]
     },
     "execution_count": 7,
     "metadata": {},
     "output_type": "execute_result"
    }
   ],
   "source": [
    "labels"
   ]
  },
  {
   "cell_type": "code",
   "execution_count": 9,
   "id": "dfb11aba-9f43-4438-8eb3-e0802b66e7da",
   "metadata": {},
   "outputs": [],
   "source": [
    "sheet_size = labels.chunksize\n",
    "block_size = (d,) + labels.chunksize[1:]"
   ]
  },
  {
   "cell_type": "code",
   "execution_count": 10,
   "id": "b3a72f7a-c81e-4d33-b58d-6e7a0bff1760",
   "metadata": {},
   "outputs": [],
   "source": [
    "labels = labels.rechunk(block_size)"
   ]
  },
  {
   "cell_type": "code",
   "execution_count": 11,
   "id": "f06ea7a4-89cd-425a-8b52-ce6382135b2c",
   "metadata": {},
   "outputs": [
    {
     "data": {
      "text/html": [
       "<table>\n",
       "    <tr>\n",
       "        <td>\n",
       "            <table style=\"border-collapse: collapse;\">\n",
       "                <thead>\n",
       "                    <tr>\n",
       "                        <td> </td>\n",
       "                        <th> Array </th>\n",
       "                        <th> Chunk </th>\n",
       "                    </tr>\n",
       "                </thead>\n",
       "                <tbody>\n",
       "                    \n",
       "                    <tr>\n",
       "                        <th> Bytes </th>\n",
       "                        <td> 2.79 GiB </td>\n",
       "                        <td> 44.74 MiB </td>\n",
       "                    </tr>\n",
       "                    \n",
       "                    <tr>\n",
       "                        <th> Shape </th>\n",
       "                        <td> (1278, 1335, 1757) </td>\n",
       "                        <td> (20, 1335, 1757) </td>\n",
       "                    </tr>\n",
       "                    <tr>\n",
       "                        <th> Dask graph </th>\n",
       "                        <td colspan=\"2\"> 64 chunks in 2 graph layers </td>\n",
       "                    </tr>\n",
       "                    <tr>\n",
       "                        <th> Data type </th>\n",
       "                        <td colspan=\"2\"> int8 numpy.ndarray </td>\n",
       "                    </tr>\n",
       "                </tbody>\n",
       "            </table>\n",
       "        </td>\n",
       "        <td>\n",
       "        <svg width=\"231\" height=\"192\" style=\"stroke:rgb(0,0,0);stroke-width:1\" >\n",
       "\n",
       "  <!-- Horizontal lines -->\n",
       "  <line x1=\"10\" y1=\"0\" x2=\"61\" y2=\"51\" style=\"stroke-width:2\" />\n",
       "  <line x1=\"10\" y1=\"91\" x2=\"61\" y2=\"142\" style=\"stroke-width:2\" />\n",
       "\n",
       "  <!-- Vertical lines -->\n",
       "  <line x1=\"10\" y1=\"0\" x2=\"10\" y2=\"91\" style=\"stroke-width:2\" />\n",
       "  <line x1=\"12\" y1=\"2\" x2=\"12\" y2=\"93\" />\n",
       "  <line x1=\"14\" y1=\"4\" x2=\"14\" y2=\"95\" />\n",
       "  <line x1=\"18\" y1=\"8\" x2=\"18\" y2=\"99\" />\n",
       "  <line x1=\"20\" y1=\"10\" x2=\"20\" y2=\"101\" />\n",
       "  <line x1=\"22\" y1=\"12\" x2=\"22\" y2=\"104\" />\n",
       "  <line x1=\"26\" y1=\"16\" x2=\"26\" y2=\"107\" />\n",
       "  <line x1=\"28\" y1=\"18\" x2=\"28\" y2=\"109\" />\n",
       "  <line x1=\"30\" y1=\"20\" x2=\"30\" y2=\"112\" />\n",
       "  <line x1=\"34\" y1=\"24\" x2=\"34\" y2=\"115\" />\n",
       "  <line x1=\"36\" y1=\"26\" x2=\"36\" y2=\"117\" />\n",
       "  <line x1=\"39\" y1=\"29\" x2=\"39\" y2=\"120\" />\n",
       "  <line x1=\"42\" y1=\"32\" x2=\"42\" y2=\"123\" />\n",
       "  <line x1=\"44\" y1=\"34\" x2=\"44\" y2=\"125\" />\n",
       "  <line x1=\"47\" y1=\"37\" x2=\"47\" y2=\"128\" />\n",
       "  <line x1=\"50\" y1=\"40\" x2=\"50\" y2=\"131\" />\n",
       "  <line x1=\"52\" y1=\"42\" x2=\"52\" y2=\"133\" />\n",
       "  <line x1=\"55\" y1=\"45\" x2=\"55\" y2=\"136\" />\n",
       "  <line x1=\"58\" y1=\"48\" x2=\"58\" y2=\"139\" />\n",
       "  <line x1=\"61\" y1=\"51\" x2=\"61\" y2=\"142\" style=\"stroke-width:2\" />\n",
       "\n",
       "  <!-- Colored Rectangle -->\n",
       "  <polygon points=\"10.0,0.0 61.34420301985337,51.34420301985337 61.34420301985337,142.52234758445212 10.0,91.17814456459875\" style=\"fill:#8B4903A0;stroke-width:0\"/>\n",
       "\n",
       "  <!-- Horizontal lines -->\n",
       "  <line x1=\"10\" y1=\"0\" x2=\"130\" y2=\"0\" style=\"stroke-width:2\" />\n",
       "  <line x1=\"12\" y1=\"2\" x2=\"132\" y2=\"2\" />\n",
       "  <line x1=\"14\" y1=\"4\" x2=\"134\" y2=\"4\" />\n",
       "  <line x1=\"18\" y1=\"8\" x2=\"138\" y2=\"8\" />\n",
       "  <line x1=\"20\" y1=\"10\" x2=\"140\" y2=\"10\" />\n",
       "  <line x1=\"22\" y1=\"12\" x2=\"142\" y2=\"12\" />\n",
       "  <line x1=\"26\" y1=\"16\" x2=\"146\" y2=\"16\" />\n",
       "  <line x1=\"28\" y1=\"18\" x2=\"148\" y2=\"18\" />\n",
       "  <line x1=\"30\" y1=\"20\" x2=\"150\" y2=\"20\" />\n",
       "  <line x1=\"34\" y1=\"24\" x2=\"154\" y2=\"24\" />\n",
       "  <line x1=\"36\" y1=\"26\" x2=\"156\" y2=\"26\" />\n",
       "  <line x1=\"39\" y1=\"29\" x2=\"159\" y2=\"29\" />\n",
       "  <line x1=\"42\" y1=\"32\" x2=\"162\" y2=\"32\" />\n",
       "  <line x1=\"44\" y1=\"34\" x2=\"164\" y2=\"34\" />\n",
       "  <line x1=\"47\" y1=\"37\" x2=\"167\" y2=\"37\" />\n",
       "  <line x1=\"50\" y1=\"40\" x2=\"170\" y2=\"40\" />\n",
       "  <line x1=\"52\" y1=\"42\" x2=\"172\" y2=\"42\" />\n",
       "  <line x1=\"55\" y1=\"45\" x2=\"175\" y2=\"45\" />\n",
       "  <line x1=\"58\" y1=\"48\" x2=\"178\" y2=\"48\" />\n",
       "  <line x1=\"61\" y1=\"51\" x2=\"181\" y2=\"51\" style=\"stroke-width:2\" />\n",
       "\n",
       "  <!-- Vertical lines -->\n",
       "  <line x1=\"10\" y1=\"0\" x2=\"61\" y2=\"51\" style=\"stroke-width:2\" />\n",
       "  <line x1=\"130\" y1=\"0\" x2=\"181\" y2=\"51\" style=\"stroke-width:2\" />\n",
       "\n",
       "  <!-- Colored Rectangle -->\n",
       "  <polygon points=\"10.0,0.0 130.0,0.0 181.34420301985335,51.34420301985337 61.34420301985337,51.34420301985337\" style=\"fill:#8B4903A0;stroke-width:0\"/>\n",
       "\n",
       "  <!-- Horizontal lines -->\n",
       "  <line x1=\"61\" y1=\"51\" x2=\"181\" y2=\"51\" style=\"stroke-width:2\" />\n",
       "  <line x1=\"61\" y1=\"142\" x2=\"181\" y2=\"142\" style=\"stroke-width:2\" />\n",
       "\n",
       "  <!-- Vertical lines -->\n",
       "  <line x1=\"61\" y1=\"51\" x2=\"61\" y2=\"142\" style=\"stroke-width:2\" />\n",
       "  <line x1=\"181\" y1=\"51\" x2=\"181\" y2=\"142\" style=\"stroke-width:2\" />\n",
       "\n",
       "  <!-- Colored Rectangle -->\n",
       "  <polygon points=\"61.34420301985337,51.34420301985337 181.34420301985335,51.34420301985337 181.34420301985335,142.52234758445212 61.34420301985337,142.52234758445212\" style=\"fill:#ECB172A0;stroke-width:0\"/>\n",
       "\n",
       "  <!-- Text -->\n",
       "  <text x=\"121.344203\" y=\"162.522348\" font-size=\"1.0rem\" font-weight=\"100\" text-anchor=\"middle\" >1757</text>\n",
       "  <text x=\"201.344203\" y=\"96.933275\" font-size=\"1.0rem\" font-weight=\"100\" text-anchor=\"middle\" transform=\"rotate(-90,201.344203,96.933275)\">1335</text>\n",
       "  <text x=\"25.672102\" y=\"136.850246\" font-size=\"1.0rem\" font-weight=\"100\" text-anchor=\"middle\" transform=\"rotate(45,25.672102,136.850246)\">1278</text>\n",
       "</svg>\n",
       "        </td>\n",
       "    </tr>\n",
       "</table>"
      ],
      "text/plain": [
       "dask.array<rechunk-merge, shape=(1278, 1335, 1757), dtype=int8, chunksize=(20, 1335, 1757), chunktype=numpy.ndarray>"
      ]
     },
     "execution_count": 11,
     "metadata": {},
     "output_type": "execute_result"
    }
   ],
   "source": [
    "labels"
   ]
  },
  {
   "cell_type": "code",
   "execution_count": 12,
   "id": "a300feae-d160-42dd-8f6f-a6aea8d46453",
   "metadata": {},
   "outputs": [],
   "source": [
    "da.to_npy_stack(temp_block_labels, labels)"
   ]
  },
  {
   "cell_type": "code",
   "execution_count": 13,
   "id": "5aeda87b-e09d-465c-871f-96411aa14ab5",
   "metadata": {},
   "outputs": [],
   "source": [
    "labels = da.from_npy_stack(temp_block_labels)"
   ]
  },
  {
   "cell_type": "code",
   "execution_count": 14,
   "id": "e2eb1ad6-4de9-46c2-b08e-be003a0f719d",
   "metadata": {},
   "outputs": [],
   "source": [
    "def empty_the_folder(directory):\n",
    "    #This method deletes all files from a temporary folder.\n",
    "    for filename in os.listdir(directory):\n",
    "        file_path = os.path.join(directory, filename)\n",
    "        if os.path.isfile(file_path):\n",
    "            os.remove(file_path)\n",
    "    print(f'removed files from {directory}')"
   ]
  },
  {
   "cell_type": "code",
   "execution_count": 15,
   "id": "f4dee66a-597b-4a09-b6fe-dd49a955628e",
   "metadata": {},
   "outputs": [],
   "source": [
    "def fill_the_folder(directory):\n",
    "    #This methods fills a temporary folder with a copy of labels and returns the number of files\n",
    "    temp = labels.copy()\n",
    "    da.to_npy_stack(directory, temp)\n",
    "    print(f'filled {directory} with copy of labels')\n",
    "    return temp.blocks.size"
   ]
  },
  {
   "cell_type": "code",
   "execution_count": 16,
   "id": "ddaf3bac-59a0-4890-a23a-7c2f8f75eeed",
   "metadata": {},
   "outputs": [],
   "source": [
    "def before_current_after(i, n, old_current, old_after, directory):\n",
    "    #This method is for iterating through a stack of numpy files.\n",
    "    #It returns the current numpy file and it's two neighbors.\n",
    "    if i == 0:\n",
    "        current = np.load(directory + str(i) + '.npy')\n",
    "        after = np.load(directory + str(i+1) + '.npy')\n",
    "        before = np.array([], dtype=current.dtype).reshape((0,) + current.shape[1:])\n",
    "    elif i < n - 1:\n",
    "        before = old_current\n",
    "        current = old_after\n",
    "        after = np.load(directory + str(i+1) + '.npy')\n",
    "    else:\n",
    "        before = old_current\n",
    "        current = old_after\n",
    "        after = np.array([], dtype=current.dtype).reshape((0,) + current.shape[1:])\n",
    "    return before, current, after"
   ]
  },
  {
   "cell_type": "code",
   "execution_count": 17,
   "id": "58f4926e-7410-4da5-97de-338f0f782d43",
   "metadata": {},
   "outputs": [],
   "source": [
    "def expand_labels_blocks(before, current, after):\n",
    "    #This function iterates through an .npy stack of labels and expands the labels by d//2 voxels\n",
    "    #where d is the depth of the numpy arrays.  It only saves the current block, not it's neighbors.\n",
    "    big = np.concatenate((before, current, after))\n",
    "    keep = np.arange(before.shape[0], before.shape[0]+current.shape[0])\n",
    "    return expand_labels(big, distance=d//2)[keep]"
   ]
  },
  {
   "cell_type": "code",
   "execution_count": 18,
   "id": "aabe7509-2654-48b8-a740-1b9f1813ea35",
   "metadata": {},
   "outputs": [
    {
     "name": "stdout",
     "output_type": "stream",
     "text": [
      "removed files from temp/\n",
      "round 1 of 4 at distance 10\n",
      "filled temp/ with copy of labels\n"
     ]
    },
    {
     "data": {
      "application/vnd.jupyter.widget-view+json": {
       "model_id": "b510028a94d34f5c8e25fa34ddc5b816",
       "version_major": 2,
       "version_minor": 0
      },
      "text/plain": [
       "  0%|          | 0/64 [00:00<?, ?it/s]"
      ]
     },
     "metadata": {},
     "output_type": "display_data"
    },
    {
     "name": "stdout",
     "output_type": "stream",
     "text": [
      "removed files from temp/\n",
      "Reloaded labels from the newly changed files.\n",
      "round 2 of 4 at distance 10\n",
      "filled temp/ with copy of labels\n"
     ]
    },
    {
     "data": {
      "application/vnd.jupyter.widget-view+json": {
       "model_id": "cfb289f74bd043f78a906b91c700b7f7",
       "version_major": 2,
       "version_minor": 0
      },
      "text/plain": [
       "  0%|          | 0/64 [00:00<?, ?it/s]"
      ]
     },
     "metadata": {},
     "output_type": "display_data"
    },
    {
     "name": "stdout",
     "output_type": "stream",
     "text": [
      "removed files from temp/\n",
      "Reloaded labels from the newly changed files.\n",
      "round 3 of 4 at distance 10\n",
      "filled temp/ with copy of labels\n"
     ]
    },
    {
     "data": {
      "application/vnd.jupyter.widget-view+json": {
       "model_id": "b64ea258662d4a628037cf29870d06e7",
       "version_major": 2,
       "version_minor": 0
      },
      "text/plain": [
       "  0%|          | 0/64 [00:00<?, ?it/s]"
      ]
     },
     "metadata": {},
     "output_type": "display_data"
    },
    {
     "name": "stdout",
     "output_type": "stream",
     "text": [
      "removed files from temp/\n",
      "Reloaded labels from the newly changed files.\n",
      "round 4 of 4 at distance 10\n",
      "filled temp/ with copy of labels\n"
     ]
    },
    {
     "data": {
      "application/vnd.jupyter.widget-view+json": {
       "model_id": "881bf1af26d9411494a478a246f9b4f4",
       "version_major": 2,
       "version_minor": 0
      },
      "text/plain": [
       "  0%|          | 0/64 [00:00<?, ?it/s]"
      ]
     },
     "metadata": {},
     "output_type": "display_data"
    },
    {
     "name": "stdout",
     "output_type": "stream",
     "text": [
      "removed files from temp/\n",
      "Reloaded labels from the newly changed files.\n"
     ]
    }
   ],
   "source": [
    "#First, make sure the temporary folder is empty\n",
    "empty_the_folder(temp_dir)\n",
    "for j in range(num_rounds_expand_labels):\n",
    "    print(f'round {j+1} of {num_rounds_expand_labels} at distance {d//2}')\n",
    "    #Populate the temp folder with a copy of labels, keeping track of the number of files: n.\n",
    "    n = fill_the_folder(temp_dir)\n",
    "    #For each block we are going to apply the numpy function expand_labels to it and its two neighbors\n",
    "    current, after = [None, None] #Not needed for the first iteration\n",
    "    for i in tqdm(range(n)):\n",
    "        #Load the block and it's two neighbors\n",
    "        before, current, after = before_current_after(i, n, current, after, temp_dir)\n",
    "        #Expand the labels d//2 where d is the depth of the blocks\n",
    "        current_expanded = expand_labels_blocks(before, current, after)\n",
    "        #Save the newly expanded labels block in the folder where labels came from\n",
    "        np.save(f'{temp_block_labels}{i}.npy', current_expanded)\n",
    "    #Remove all of the temporary files that were copies of the old labels\n",
    "    empty_the_folder(temp_dir)\n",
    "    #Reload the labels from the newly changed files\n",
    "    labels = da.from_npy_stack(temp_block_labels)\n",
    "    print('Reloaded labels from the newly changed files.')"
   ]
  },
  {
   "cell_type": "markdown",
   "id": "17bc231e-c24b-4dbd-ae54-ef5916162f8a",
   "metadata": {},
   "source": [
    "To double check that we have expanded our labels enough, we can use the histogram of label sizes.  There ought to be 2 large, and there could be a smattering of 1's.  Any other numbers might be a hole in one of the labels."
   ]
  },
  {
   "cell_type": "code",
   "execution_count": 19,
   "id": "08f305c8-6780-4124-a396-bbd4b69ffdb3",
   "metadata": {},
   "outputs": [],
   "source": [
    "holes_labels, num_holes = ndmeasure.label(labels==0)"
   ]
  },
  {
   "cell_type": "code",
   "execution_count": 20,
   "id": "2bfb8bae-fbc8-4e4b-90a6-ba3f4e6b66a7",
   "metadata": {},
   "outputs": [],
   "source": [
    "da.to_npy_stack(temp_dir, holes_labels)"
   ]
  },
  {
   "cell_type": "code",
   "execution_count": 21,
   "id": "1012ba97-a17c-46cb-95df-e40c20f34858",
   "metadata": {},
   "outputs": [],
   "source": [
    "holes_labels = da.from_npy_stack(temp_dir)"
   ]
  },
  {
   "cell_type": "code",
   "execution_count": 22,
   "id": "a166d8e0-6691-4c13-a331-537ca27dab55",
   "metadata": {},
   "outputs": [
    {
     "name": "stdout",
     "output_type": "stream",
     "text": [
      "[ 196613116 2801053195          1          1          1          1\n",
      "          1          1       3610          1         52          1\n",
      "          2          2          1          2          1          1\n",
      "          1          3          1          1          1          1\n",
      "          2          1          1          1        287          1\n",
      "          1          1          1          1          1          1\n",
      "          1          2          2          1          1          1\n",
      "          1          1          2          2          2          1\n",
      "          1          1          1          1          1         13\n",
      "          3          2          3          3          2          2\n",
      "          3          2          2          2          1          2\n",
      "          1          2          3          1          1          2\n",
      "          4          2          4          1          1          2\n",
      "          2          1          1          2          1          1\n",
      "          1          1          1          1          1          1\n",
      "          1          1          1          1          3          1\n",
      "          3          1          1]\n"
     ]
    }
   ],
   "source": [
    "counts = da.bincount(holes_labels.ravel()).compute()\n",
    "print(counts)"
   ]
  },
  {
   "cell_type": "code",
   "execution_count": 23,
   "id": "3f5997a8-5944-4815-b5cd-b776519bf28b",
   "metadata": {},
   "outputs": [
    {
     "data": {
      "text/plain": [
       "99"
      ]
     },
     "execution_count": 23,
     "metadata": {},
     "output_type": "execute_result"
    }
   ],
   "source": [
    "len(counts)"
   ]
  },
  {
   "cell_type": "code",
   "execution_count": 24,
   "id": "8cc44a80-eaa3-4f97-a245-d2e2857838af",
   "metadata": {},
   "outputs": [
    {
     "name": "stdout",
     "output_type": "stream",
     "text": [
      "removed files from temp/\n"
     ]
    }
   ],
   "source": [
    "empty_the_folder(temp_dir)"
   ]
  },
  {
   "cell_type": "markdown",
   "id": "90caa1c9-44b8-4167-b2b0-d63bff6a4eed",
   "metadata": {},
   "source": [
    "Another way to double-check is to view the expanded labels with Napari:"
   ]
  },
  {
   "cell_type": "code",
   "execution_count": 25,
   "id": "feb178c8-4fbb-45f3-8fa0-8777c300e534",
   "metadata": {},
   "outputs": [
    {
     "data": {
      "text/plain": [
       "<Labels layer 'fingers_expanded' at 0x20c90551550>"
      ]
     },
     "execution_count": 25,
     "metadata": {},
     "output_type": "execute_result"
    }
   ],
   "source": [
    "viewer = napari.Viewer()\n",
    "hand_view = viewer.add_image(\n",
    "    hand,\n",
    "    scale=spacing,\n",
    ")\n",
    "viewer.add_labels(\n",
    "    labels,\n",
    "    name='fingers_expanded',\n",
    "    opacity=1.0,\n",
    "    scale=spacing,\n",
    ")"
   ]
  },
  {
   "cell_type": "code",
   "execution_count": null,
   "id": "4387234e-365e-4c63-8cfb-8a06c21fc2dc",
   "metadata": {},
   "outputs": [],
   "source": []
  },
  {
   "cell_type": "markdown",
   "id": "604cbd55-a60d-4b58-98b7-cf4dc77fcd66",
   "metadata": {},
   "source": []
  },
  {
   "cell_type": "code",
   "execution_count": 26,
   "id": "10258607-854b-4e22-a9f7-ae6d77e40b01",
   "metadata": {},
   "outputs": [
    {
     "name": "stdout",
     "output_type": "stream",
     "text": [
      "x from 185 to 1228\n",
      "y from 403 to 803\n",
      "z from 684 to 997\n",
      "Size of finger 1 array: 996M\n",
      "____________________\n",
      "x from 192 to 1277\n",
      "y from 402 to 802\n",
      "z from 874 to 1233\n",
      "Size of finger 2 array: 1G\n",
      "____________________\n",
      "x from 123 to 1226\n",
      "y from 404 to 755\n",
      "z from 1071 to 1436\n",
      "Size of finger 3 array: 1G\n",
      "____________________\n",
      "x from 59 to 951\n",
      "y from 408 to 699\n",
      "z from 1295 to 1630\n",
      "Size of finger 4 array: 663M\n",
      "____________________\n"
     ]
    }
   ],
   "source": [
    "for i in range(1,5):\n",
    "    sub_x, sub_y, sub_z = da.where(labels == i)\n",
    "    \n",
    "    sub_x = sub_x.compute()\n",
    "    x_min = sub_x.min()\n",
    "    x_max = sub_x.max()\n",
    "    del sub_x\n",
    "    \n",
    "    sub_y = sub_y.compute()\n",
    "    y_min = sub_y.min()\n",
    "    y_max = sub_y.max()\n",
    "    del sub_y\n",
    "    \n",
    "    sub_z = sub_z.compute()\n",
    "    z_min = sub_z.min()\n",
    "    z_max = sub_z.max()\n",
    "    del sub_z\n",
    "    \n",
    "    subset = da.where(labels == i, hand, -1000)[x_min:x_max, y_min:y_max, z_min:z_max]\n",
    "    da.to_npy_stack(finger_dir[i], subset)\n",
    "    \n",
    "    print(f'x from {x_min} to {x_max}')\n",
    "    print(f'y from {y_min} to {y_max}')\n",
    "    print(f'z from {z_min} to {z_max}')\n",
    "    print(f'Size of finger {i} array: {size(subset.nbytes)}')\n",
    "    print('_'*20)"
   ]
  },
  {
   "cell_type": "markdown",
   "id": "9dacb818-d86d-49b2-84c2-14e7cc3592b4",
   "metadata": {},
   "source": [
    "Below, you can use Napari to double check how each finger looks all by itself."
   ]
  },
  {
   "cell_type": "code",
   "execution_count": null,
   "id": "3f8ee8d1-050a-4c01-8062-434f813dc14f",
   "metadata": {},
   "outputs": [],
   "source": [
    "i = 1\n",
    "finger = da.from_npy_stack(finger_dir[i])\n",
    "viewer = napari.Viewer()\n",
    "viewer.add_image(finger)"
   ]
  },
  {
   "cell_type": "code",
   "execution_count": null,
   "id": "ce5ffe47-ef1e-4539-b93a-468a4e9a738c",
   "metadata": {},
   "outputs": [],
   "source": []
  }
 ],
 "metadata": {
  "kernelspec": {
   "display_name": "Python 3 (ipykernel)",
   "language": "python",
   "name": "python3"
  },
  "language_info": {
   "codemirror_mode": {
    "name": "ipython",
    "version": 3
   },
   "file_extension": ".py",
   "mimetype": "text/x-python",
   "name": "python",
   "nbconvert_exporter": "python",
   "pygments_lexer": "ipython3",
   "version": "3.13.5"
  }
 },
 "nbformat": 4,
 "nbformat_minor": 5
}
