{
 "cells": [
  {
   "cell_type": "code",
   "execution_count": null,
   "id": "4826125c-a111-4058-918c-328c61f2a128",
   "metadata": {},
   "outputs": [],
   "source": [
    "#Use this code whenever we've updated the environment.yml document\n",
    "#%conda env update --file '../environment.yml'  --prune"
   ]
  },
  {
   "cell_type": "code",
   "execution_count": null,
   "id": "a86a5f72-51af-4b7a-9ea5-4766f4b2013a",
   "metadata": {},
   "outputs": [],
   "source": [
    "import matplotlib.pyplot as plt\n",
    "import scipy as sp\n",
    "import numpy as np\n",
    "import os\n",
    "from trimesh import Trimesh\n",
    "\n",
    "from skimage import morphology\n",
    "from skimage.segmentation import expand_labels, watershed\n",
    "from scipy.ndimage import convolve1d\n",
    "from skimage import measure\n",
    "\n",
    "\n",
    "from dask_image import imread\n",
    "from dask_image import ndmeasure\n",
    "from dask_image import ndfilters\n",
    "from dask import array as da\n",
    "from dask import delayed\n",
    "from dask.distributed import Client, progress\n",
    "\n",
    "import napari"
   ]
  },
  {
   "cell_type": "code",
   "execution_count": null,
   "id": "f9c3fb23-4b81-43be-a023-616be35a9d8e",
   "metadata": {},
   "outputs": [],
   "source": [
    "client = Client(processes=False, threads_per_worker=6,\n",
    "                n_workers=4, memory_limit='12GB')\n",
    "client"
   ]
  },
  {
   "cell_type": "code",
   "execution_count": null,
   "id": "ff098ef5-7a52-4abf-998d-0ddb541b483f",
   "metadata": {},
   "outputs": [],
   "source": [
    "specific = 'F231006L'\n",
    "finger_dir = {1: '../fingers/index/full/' + specific + '/',\n",
    "              2: '../fingers/middle/full/' + specific + '/',\n",
    "              3: '../fingers/ring/full/' + specific + '/',\n",
    "              4: '../fingers/pinky/full/' + specific + '/',\n",
    "             }\n",
    "spacing = np.load('../spacing/' + specific + '.npy')"
   ]
  },
  {
   "cell_type": "code",
   "execution_count": null,
   "id": "f7099c24-07ce-4684-9481-ea540dc017ee",
   "metadata": {},
   "outputs": [],
   "source": [
    "i = 4\n",
    "#If the file is too big, then delete the \".compute\" part below.\n",
    "finger = da.from_npy_stack(finger_dir[i])"
   ]
  },
  {
   "cell_type": "code",
   "execution_count": null,
   "id": "ab302dbf-266d-4ae4-ba06-3cb12f274ff5",
   "metadata": {},
   "outputs": [],
   "source": [
    "viewer = napari.Viewer()"
   ]
  },
  {
   "cell_type": "code",
   "execution_count": null,
   "id": "27198659-5970-48b2-b839-742d80dd4370",
   "metadata": {},
   "outputs": [],
   "source": [
    "viewer.add_image(\n",
    "    finger,\n",
    "    scale = spacing\n",
    ")"
   ]
  },
  {
   "cell_type": "code",
   "execution_count": null,
   "id": "af051c1d-6d50-4392-a451-fce38891e97a",
   "metadata": {},
   "outputs": [],
   "source": [
    "smoothed = ndfilters.median_filter(\n",
    "    image = finger,\n",
    "    size = 3,\n",
    ").compute()"
   ]
  },
  {
   "cell_type": "code",
   "execution_count": null,
   "id": "6b34b9d0-d288-4344-b201-eb083aaf8d54",
   "metadata": {},
   "outputs": [],
   "source": [
    "viewer.add_image(\n",
    "    smoothed,\n",
    "    name = 'smoothed',\n",
    "    scale = spacing,\n",
    ")"
   ]
  },
  {
   "cell_type": "code",
   "execution_count": null,
   "id": "20508a2c-7165-4494-bfe4-fbbdc2ce249b",
   "metadata": {},
   "outputs": [],
   "source": [
    "#Not sure what threshold to set this at\n",
    "threshold = 450\n",
    "verts, faces, normals, values = measure.marching_cubes(\n",
    "    volume = smoothed,\n",
    "    level = threshold,\n",
    "    spacing = spacing,\n",
    ")"
   ]
  },
  {
   "cell_type": "code",
   "execution_count": null,
   "id": "4b5e23fd-c05e-42e8-93ce-0180252494a7",
   "metadata": {},
   "outputs": [],
   "source": [
    "mesh = Trimesh(vertices=verts, faces=faces)"
   ]
  },
  {
   "cell_type": "code",
   "execution_count": null,
   "id": "3bd76112-7aea-4cb1-8609-3e807286b639",
   "metadata": {},
   "outputs": [],
   "source": []
  },
  {
   "cell_type": "code",
   "execution_count": null,
   "id": "53acedc3-e0ac-4e39-9f98-ea340e0d375d",
   "metadata": {},
   "outputs": [],
   "source": [
    "mesh_view = viewer.add_surface(\n",
    "    data = (verts, faces, values),\n",
    "    scale = spacing,\n",
    ")"
   ]
  },
  {
   "cell_type": "code",
   "execution_count": null,
   "id": "cf76702d-19f3-4e98-9208-5ce147c69769",
   "metadata": {},
   "outputs": [],
   "source": [
    "verts"
   ]
  },
  {
   "cell_type": "code",
   "execution_count": null,
   "id": "47a13d3c-7061-4f82-92d7-3b2703d3460a",
   "metadata": {},
   "outputs": [],
   "source": []
  },
  {
   "cell_type": "code",
   "execution_count": null,
   "id": "deb2e957-72a8-440e-972d-0a72b4da343d",
   "metadata": {},
   "outputs": [],
   "source": []
  },
  {
   "cell_type": "code",
   "execution_count": null,
   "id": "853aeae2-d456-48c3-a5fc-989db1d3a05d",
   "metadata": {},
   "outputs": [],
   "source": []
  }
 ],
 "metadata": {
  "kernelspec": {
   "display_name": "Python 3 (ipykernel)",
   "language": "python",
   "name": "python3"
  },
  "language_info": {
   "codemirror_mode": {
    "name": "ipython",
    "version": 3
   },
   "file_extension": ".py",
   "mimetype": "text/x-python",
   "name": "python",
   "nbconvert_exporter": "python",
   "pygments_lexer": "ipython3",
   "version": "3.13.5"
  }
 },
 "nbformat": 4,
 "nbformat_minor": 5
}
