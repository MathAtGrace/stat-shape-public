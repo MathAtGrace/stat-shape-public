{
 "cells": [
  {
   "cell_type": "code",
   "execution_count": null,
   "id": "a86a5f72-51af-4b7a-9ea5-4766f4b2013a",
   "metadata": {},
   "outputs": [],
   "source": [
    "import matplotlib.pyplot as plt\n",
    "import scipy as sp\n",
    "import numpy as np\n",
    "import os\n",
    "import time\n",
    "\n",
    "from skimage import morphology\n",
    "from skimage.segmentation import expand_labels, watershed\n",
    "from scipy.ndimage import convolve1d\n",
    "from dask_ml.cluster import KMeans\n",
    "from dask_ml.decomposition import PCA\n",
    "\n",
    "from dask_image import imread\n",
    "from dask_image import ndmeasure\n",
    "from dask_image import ndfilters\n",
    "from dask import array as da\n",
    "from dask.distributed import Client, progress\n",
    "\n",
    "from eigenvalues_from_unique import eigenvalues_from_unique\n",
    "\n",
    "import napari"
   ]
  },
  {
   "cell_type": "code",
   "execution_count": null,
   "id": "f9c3fb23-4b81-43be-a023-616be35a9d8e",
   "metadata": {},
   "outputs": [],
   "source": [
    "client = Client(processes=False, threads_per_worker=6,\n",
    "                n_workers=1, memory_limit='12GB')\n",
    "client"
   ]
  },
  {
   "cell_type": "code",
   "execution_count": null,
   "id": "c059967c-5fc8-4900-bb49-66703c489003",
   "metadata": {},
   "outputs": [],
   "source": [
    "#Specific is the name of the folder of the orginal data\n",
    "specific = 'Whole Hand Test S232312 Left'\n",
    "#which_finger should be 1,2,3, or 4, corresponding to the index, middle, ring, and pinky fingers\n",
    "which_finger = 2"
   ]
  },
  {
   "cell_type": "code",
   "execution_count": null,
   "id": "ff098ef5-7a52-4abf-998d-0ddb541b483f",
   "metadata": {},
   "outputs": [],
   "source": [
    "finger_dir = {1: '../fingers/index/full/' + specific + '/',\n",
    "              2: '../fingers/middle/full/' + specific + '/',\n",
    "              3: '../fingers/ring/full/' + specific + '/',\n",
    "              4: '../fingers/pinky/full/' + specific + '/',\n",
    "             }\n",
    "temp_eigs_dir = {1: '../fingers/index/full/' + specific + ' - eigens/',\n",
    "              2: '../fingers/middle/full/' + specific + ' - eigens/',\n",
    "              3: '../fingers/ring/full/' + specific + ' - eigens/',\n",
    "              4: '../fingers/pinky/full/' + specific + ' - eigens/',\n",
    "             }\n",
    "temp_eigs_dir_2 = {1: '../fingers/index/full/' + specific + ' - eigens_2/',\n",
    "              2: '../fingers/middle/full/' + specific + ' - eigens_2/',\n",
    "              3: '../fingers/ring/full/' + specific + ' - eigens_2/',\n",
    "              4: '../fingers/pinky/full/' + specific + ' - eigens_2/',\n",
    "             }"
   ]
  },
  {
   "cell_type": "code",
   "execution_count": null,
   "id": "f7099c24-07ce-4684-9481-ea540dc017ee",
   "metadata": {},
   "outputs": [],
   "source": [
    "#If the file is small enough for your computer, \n",
    "#then add \".compute\" to the end of the line below below.\n",
    "finger = da.from_npy_stack(finger_dir[which_finger])\n",
    "spacing = np.load('../spacing/' + specific + '.npy')"
   ]
  },
  {
   "cell_type": "code",
   "execution_count": null,
   "id": "88d22f35-bd14-40c1-99bd-87a867226868",
   "metadata": {},
   "outputs": [],
   "source": [
    "#DD = da.from_npy_stack('temp-derivatives/')"
   ]
  },
  {
   "cell_type": "code",
   "execution_count": null,
   "id": "ffe8ca73-4665-4478-9516-1283f32b2feb",
   "metadata": {},
   "outputs": [],
   "source": [
    "#n = 10**6\n",
    "#d1, d2, d3, _ = DD.shape\n",
    "#DD_list = DD.reshape((d1*d2*d3, 6))\n",
    "#index = da.random.choice(DD_list.shape[0], n) \n",
    "#DD_samp = DD_list[index]\n",
    "#DD_samp"
   ]
  },
  {
   "cell_type": "code",
   "execution_count": null,
   "id": "9c865399-be91-465b-9a38-76187f0ab64c",
   "metadata": {},
   "outputs": [],
   "source": [
    "#Force Dask to compute the sample now in order to save time later\n",
    "#da.to_npy_stack('sample-derivatives/', DD_samp)"
   ]
  },
  {
   "cell_type": "code",
   "execution_count": null,
   "id": "748f63da-c6f8-49ca-a8e4-b23bf2f3b355",
   "metadata": {},
   "outputs": [],
   "source": [
    "#Reload the data from the temporary file\n",
    "DD_samp = da.from_npy_stack('sample-derivatives/')"
   ]
  },
  {
   "cell_type": "code",
   "execution_count": null,
   "id": "c4eec1ee-c1f5-47f6-a04f-ceca0626d17b",
   "metadata": {},
   "outputs": [],
   "source": [
    "DD_samp"
   ]
  },
  {
   "cell_type": "code",
   "execution_count": null,
   "id": "8fc86c69-b124-48d4-a9f5-46e218465ada",
   "metadata": {},
   "outputs": [],
   "source": [
    "def viete(the_six):\n",
    "    if len(the_six) == 6:\n",
    "        #the_six should be formatted as the [xx, xy, yy, yz, zz, zx] derivatives\n",
    "        # of the Gaussian convolved with the image\n",
    "        a11, a12, a22, a23, a33, a13 = the_six\n",
    "        #The characteristic polynomial of the 3x3 matrix will have coefficients:\n",
    "        trace_av = np.average([a11, a22, a33])\n",
    "        P_shifted = np.array([[a11-trace_av,a12,a13],\n",
    "                      [a12,a22-trace_av,a23],\n",
    "                      [a13,a23,a33-trace_av]])\n",
    "        _,_,p,q = np.poly(P_shifted)\n",
    "        neg_p_sqrt = np.sqrt(-p)\n",
    "        sqrt_3 = np.sqrt(3)\n",
    "        if p >= -10**(-5): #This will only happen if all off-diagonals are basically zero and\n",
    "            # all diagonals are basically identical.\n",
    "            eigens = np.array([trace_av]*3)\n",
    "        elif 27*q**2 > -4*p**3 - 10**(-5):\n",
    "            #This can only happen when the discriminant is basically zero\n",
    "            # which will mean cos(theta) = sign(q).  In either case, cosine of one of\n",
    "            # the trisected angels will also be sign(q).\n",
    "            la1 = neg_p_sqrt * 2 * np.sign(q) / sqrt_3 - trace_av\n",
    "            la23 = neg_p_sqrt * (-np.sign(q)) / sqrt_3 - trace_av\n",
    "            eigens = np.array(sorted([la1, la23, la23], reverse=True))\n",
    "        else:\n",
    "            theta = np.arccos(3*sqrt_3*q/(2*neg_p_sqrt**3))\n",
    "            cs = np.cos(theta/3)\n",
    "            sn = np.sqrt(1 - cs**2)\n",
    "            la1 = neg_p_sqrt * 2 * cs / sqrt_3 - trace_av\n",
    "            la2 = neg_p_sqrt * (-cs + sqrt_3*sn) / sqrt_3 - trace_av\n",
    "            la3 = neg_p_sqrt * (-cs - sqrt_3*sn) / sqrt_3 - trace_av\n",
    "            eigens = np.array(sorted([la1, la2, la3], reverse=True))\n",
    "        return eigens\n",
    "    else:\n",
    "        print(f'Viete: The chosen axis must be of length 6, but instead, got: {the_six} which is length {len(the_six)}')\n",
    "        return np.zeros(3)"
   ]
  },
  {
   "cell_type": "code",
   "execution_count": null,
   "id": "62c0d569-fa5b-42af-8551-7b0bd3155b7e",
   "metadata": {},
   "outputs": [],
   "source": [
    "eigs = da.apply_along_axis(viete, 1, DD_samp)"
   ]
  },
  {
   "cell_type": "code",
   "execution_count": null,
   "id": "c1f19d98-09a6-4d0c-b74e-2c677ccf3d89",
   "metadata": {},
   "outputs": [],
   "source": [
    "%timeit -r 10 -n 10 da.to_npy_stack(temp_eigs_dir[which_finger], eigs)"
   ]
  },
  {
   "cell_type": "code",
   "execution_count": null,
   "id": "99d77677-7d30-4e6e-9789-4ded4603be54",
   "metadata": {},
   "outputs": [],
   "source": [
    "eigs_2 = da.apply_along_axis(eigenvalues_from_unique, 1, DD_samp)"
   ]
  },
  {
   "cell_type": "code",
   "execution_count": null,
   "id": "d2d0ed1f-8336-45e4-b427-7f7ced5dcbc1",
   "metadata": {},
   "outputs": [],
   "source": [
    "%timeit -r 10 -n 10 da.to_npy_stack(temp_eigs_dir_2[which_finger], eigs_2)"
   ]
  },
  {
   "cell_type": "code",
   "execution_count": null,
   "id": "43990aae-ed77-4969-8f98-05d60947346e",
   "metadata": {},
   "outputs": [],
   "source": [
    "eigs = da.from_npy_stack(temp_eigs_dir[which_finger])"
   ]
  },
  {
   "cell_type": "code",
   "execution_count": null,
   "id": "370a741f-d54c-4513-b8eb-91002679b8a4",
   "metadata": {},
   "outputs": [],
   "source": [
    "eigs"
   ]
  },
  {
   "cell_type": "code",
   "execution_count": null,
   "id": "9581bb3e-825e-4a2f-850d-c66e87b9e9ba",
   "metadata": {},
   "outputs": [],
   "source": []
  }
 ],
 "metadata": {
  "kernelspec": {
   "display_name": "Python 3 (ipykernel)",
   "language": "python",
   "name": "python3"
  },
  "language_info": {
   "codemirror_mode": {
    "name": "ipython",
    "version": 3
   },
   "file_extension": ".py",
   "mimetype": "text/x-python",
   "name": "python",
   "nbconvert_exporter": "python",
   "pygments_lexer": "ipython3",
   "version": "3.11.5"
  }
 },
 "nbformat": 4,
 "nbformat_minor": 5
}
