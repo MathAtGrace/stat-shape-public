{
 "cells": [
  {
   "cell_type": "code",
   "execution_count": 1,
   "id": "e3328f38-5734-45fc-97ed-b9cd3f83205e",
   "metadata": {},
   "outputs": [],
   "source": [
    "import matplotlib.pyplot as plt\n",
    "import scipy as sp\n",
    "import numpy as np\n",
    "import os\n",
    "import pandas as pd\n",
    "\n",
    "from skimage import morphology, measure\n",
    "from skimage.segmentation import expand_labels, watershed, relabel_sequential\n",
    "from sklearn.preprocessing import minmax_scale\n",
    "from scipy import ndimage as ndi\n",
    "from dask_ml.cluster import KMeans\n",
    "from dask_ml.decomposition import PCA\n",
    "\n",
    "from dask_image import imread\n",
    "from dask_image import ndmeasure\n",
    "from dask_image import ndfilters\n",
    "from dask import array as da\n",
    "from dask import delayed\n",
    "from dask.distributed import Client, progress\n",
    "from colorsys import hls_to_rgb\n",
    "\n",
    "import napari\n",
    "\n",
    "import trimesh\n",
    "from trimesh.curvature import (\n",
    "    discrete_gaussian_curvature_measure,\n",
    "    discrete_mean_curvature_measure,\n",
    "    sphere_ball_intersection,\n",
    ")"
   ]
  },
  {
   "cell_type": "code",
   "execution_count": 2,
   "id": "38841c99-5458-43fe-aa5e-4f237674df07",
   "metadata": {},
   "outputs": [
    {
     "data": {
      "text/html": [
       "<div>\n",
       "    <div style=\"width: 24px; height: 24px; background-color: #e1e1e1; border: 3px solid #9D9D9D; border-radius: 5px; position: absolute;\"> </div>\n",
       "    <div style=\"margin-left: 48px;\">\n",
       "        <h3 style=\"margin-bottom: 0px;\">Client</h3>\n",
       "        <p style=\"color: #9D9D9D; margin-bottom: 0px;\">Client-210282c9-7d3e-11f0-959c-6ca100663b97</p>\n",
       "        <table style=\"width: 100%; text-align: left;\">\n",
       "\n",
       "        <tr>\n",
       "        \n",
       "            <td style=\"text-align: left;\"><strong>Connection method:</strong> Cluster object</td>\n",
       "            <td style=\"text-align: left;\"><strong>Cluster type:</strong> distributed.LocalCluster</td>\n",
       "        \n",
       "        </tr>\n",
       "\n",
       "        \n",
       "            <tr>\n",
       "                <td style=\"text-align: left;\">\n",
       "                    <strong>Dashboard: </strong> <a href=\"http://172.19.112.205:8787/status\" target=\"_blank\">http://172.19.112.205:8787/status</a>\n",
       "                </td>\n",
       "                <td style=\"text-align: left;\"></td>\n",
       "            </tr>\n",
       "        \n",
       "\n",
       "        </table>\n",
       "\n",
       "        \n",
       "\n",
       "        \n",
       "            <details>\n",
       "            <summary style=\"margin-bottom: 20px;\"><h3 style=\"display: inline;\">Cluster Info</h3></summary>\n",
       "            <div class=\"jp-RenderedHTMLCommon jp-RenderedHTML jp-mod-trusted jp-OutputArea-output\">\n",
       "    <div style=\"width: 24px; height: 24px; background-color: #e1e1e1; border: 3px solid #9D9D9D; border-radius: 5px; position: absolute;\">\n",
       "    </div>\n",
       "    <div style=\"margin-left: 48px;\">\n",
       "        <h3 style=\"margin-bottom: 0px; margin-top: 0px;\">LocalCluster</h3>\n",
       "        <p style=\"color: #9D9D9D; margin-bottom: 0px;\">649a22f8</p>\n",
       "        <table style=\"width: 100%; text-align: left;\">\n",
       "            <tr>\n",
       "                <td style=\"text-align: left;\">\n",
       "                    <strong>Dashboard:</strong> <a href=\"http://172.19.112.205:8787/status\" target=\"_blank\">http://172.19.112.205:8787/status</a>\n",
       "                </td>\n",
       "                <td style=\"text-align: left;\">\n",
       "                    <strong>Workers:</strong> 1\n",
       "                </td>\n",
       "            </tr>\n",
       "            <tr>\n",
       "                <td style=\"text-align: left;\">\n",
       "                    <strong>Total threads:</strong> 6\n",
       "                </td>\n",
       "                <td style=\"text-align: left;\">\n",
       "                    <strong>Total memory:</strong> 11.18 GiB\n",
       "                </td>\n",
       "            </tr>\n",
       "            \n",
       "            <tr>\n",
       "    <td style=\"text-align: left;\"><strong>Status:</strong> running</td>\n",
       "    <td style=\"text-align: left;\"><strong>Using processes:</strong> False</td>\n",
       "</tr>\n",
       "\n",
       "            \n",
       "        </table>\n",
       "\n",
       "        <details>\n",
       "            <summary style=\"margin-bottom: 20px;\">\n",
       "                <h3 style=\"display: inline;\">Scheduler Info</h3>\n",
       "            </summary>\n",
       "\n",
       "            <div style=\"\">\n",
       "    <div>\n",
       "        <div style=\"width: 24px; height: 24px; background-color: #FFF7E5; border: 3px solid #FF6132; border-radius: 5px; position: absolute;\"> </div>\n",
       "        <div style=\"margin-left: 48px;\">\n",
       "            <h3 style=\"margin-bottom: 0px;\">Scheduler</h3>\n",
       "            <p style=\"color: #9D9D9D; margin-bottom: 0px;\">Scheduler-c5a94144-5c0f-4aed-816a-3b438772c0d8</p>\n",
       "            <table style=\"width: 100%; text-align: left;\">\n",
       "                <tr>\n",
       "                    <td style=\"text-align: left;\">\n",
       "                        <strong>Comm:</strong> inproc://172.19.112.205/21916/1\n",
       "                    </td>\n",
       "                    <td style=\"text-align: left;\">\n",
       "                        <strong>Workers:</strong> 1\n",
       "                    </td>\n",
       "                </tr>\n",
       "                <tr>\n",
       "                    <td style=\"text-align: left;\">\n",
       "                        <strong>Dashboard:</strong> <a href=\"http://172.19.112.205:8787/status\" target=\"_blank\">http://172.19.112.205:8787/status</a>\n",
       "                    </td>\n",
       "                    <td style=\"text-align: left;\">\n",
       "                        <strong>Total threads:</strong> 6\n",
       "                    </td>\n",
       "                </tr>\n",
       "                <tr>\n",
       "                    <td style=\"text-align: left;\">\n",
       "                        <strong>Started:</strong> Just now\n",
       "                    </td>\n",
       "                    <td style=\"text-align: left;\">\n",
       "                        <strong>Total memory:</strong> 11.18 GiB\n",
       "                    </td>\n",
       "                </tr>\n",
       "            </table>\n",
       "        </div>\n",
       "    </div>\n",
       "\n",
       "    <details style=\"margin-left: 48px;\">\n",
       "        <summary style=\"margin-bottom: 20px;\">\n",
       "            <h3 style=\"display: inline;\">Workers</h3>\n",
       "        </summary>\n",
       "\n",
       "        \n",
       "        <div style=\"margin-bottom: 20px;\">\n",
       "            <div style=\"width: 24px; height: 24px; background-color: #DBF5FF; border: 3px solid #4CC9FF; border-radius: 5px; position: absolute;\"> </div>\n",
       "            <div style=\"margin-left: 48px;\">\n",
       "            <details>\n",
       "                <summary>\n",
       "                    <h4 style=\"margin-bottom: 0px; display: inline;\">Worker: 0</h4>\n",
       "                </summary>\n",
       "                <table style=\"width: 100%; text-align: left;\">\n",
       "                    <tr>\n",
       "                        <td style=\"text-align: left;\">\n",
       "                            <strong>Comm: </strong> inproc://172.19.112.205/21916/4\n",
       "                        </td>\n",
       "                        <td style=\"text-align: left;\">\n",
       "                            <strong>Total threads: </strong> 6\n",
       "                        </td>\n",
       "                    </tr>\n",
       "                    <tr>\n",
       "                        <td style=\"text-align: left;\">\n",
       "                            <strong>Dashboard: </strong> <a href=\"http://172.19.112.205:61771/status\" target=\"_blank\">http://172.19.112.205:61771/status</a>\n",
       "                        </td>\n",
       "                        <td style=\"text-align: left;\">\n",
       "                            <strong>Memory: </strong> 11.18 GiB\n",
       "                        </td>\n",
       "                    </tr>\n",
       "                    <tr>\n",
       "                        <td style=\"text-align: left;\">\n",
       "                            <strong>Nanny: </strong> None\n",
       "                        </td>\n",
       "                        <td style=\"text-align: left;\"></td>\n",
       "                    </tr>\n",
       "                    <tr>\n",
       "                        <td colspan=\"2\" style=\"text-align: left;\">\n",
       "                            <strong>Local directory: </strong> C:\\Users\\johnsor\\AppData\\Local\\Temp\\dask-scratch-space\\worker-rw_hevn5\n",
       "                        </td>\n",
       "                    </tr>\n",
       "\n",
       "                    \n",
       "\n",
       "                    \n",
       "\n",
       "                </table>\n",
       "            </details>\n",
       "            </div>\n",
       "        </div>\n",
       "        \n",
       "\n",
       "    </details>\n",
       "</div>\n",
       "\n",
       "        </details>\n",
       "    </div>\n",
       "</div>\n",
       "            </details>\n",
       "        \n",
       "\n",
       "    </div>\n",
       "</div>"
      ],
      "text/plain": [
       "<Client: 'inproc://172.19.112.205/21916/1' processes=1 threads=6, memory=11.18 GiB>"
      ]
     },
     "execution_count": 2,
     "metadata": {},
     "output_type": "execute_result"
    }
   ],
   "source": [
    "client = Client(processes=False, threads_per_worker=6,\n",
    "                n_workers=1, memory_limit='12GB')\n",
    "client"
   ]
  },
  {
   "cell_type": "code",
   "execution_count": 3,
   "id": "2e76a676-b364-409f-91e6-dbe9d378a40f",
   "metadata": {},
   "outputs": [],
   "source": [
    "#Specific is the name of the folder of the orginal data\n",
    "specific = 'F231006L'\n",
    "#which_finger should be 1,2,3, or 4, corresponding to the index, middle, ring, and pinky fingers\n",
    "finger_num = 1\n",
    "digit_num = 2"
   ]
  },
  {
   "cell_type": "code",
   "execution_count": 4,
   "id": "9e8f535c-7ff4-45fc-8efe-58b9ea3736a8",
   "metadata": {},
   "outputs": [],
   "source": [
    "finger_names = {1: 'index', 2: 'middle', 3: 'ring', 4: 'pinky'}\n",
    "finger_name = finger_names[finger_num]\n",
    "digit_names = {1: 'proximal', 2: 'middle', 3: 'distal'}\n",
    "digit_name = digit_names[digit_num]"
   ]
  },
  {
   "cell_type": "code",
   "execution_count": 5,
   "id": "2788ee1c-cdb8-453f-bb8f-bc6d19187893",
   "metadata": {},
   "outputs": [],
   "source": [
    "full_finger_dir = f'../fingers/{finger_name}/full/{specific}/'\n",
    "digit_dir = f'../fingers/{finger_name}/{digit_name}/{specific}/'\n",
    "finger_eig_dir = f'../fingers/{finger_name}/full/{specific} - eigens/'\n",
    "mesh_dir = f'../meshes_npy/{finger_name}/{digit_name}/{specific}/'\n",
    "mesh_csv_dir = f'../mesh_csvs/{finger_name}/{digit_name}/{specific}/'\n",
    "digit_eig_dir = f'../fingers/{finger_name}/{digit_name}/{specific} - eigens/'\n",
    "spacing = np.load('../spacing/' + specific + '.npy')"
   ]
  },
  {
   "cell_type": "code",
   "execution_count": 6,
   "id": "7d11dbef-842a-4b51-a694-52cabe439f4f",
   "metadata": {},
   "outputs": [],
   "source": [
    "vertices = np.load(mesh_dir + 'vertices.npy')\n",
    "faces = np.load(mesh_dir + 'faces.npy')\n",
    "values = np.load(mesh_dir + 'values.npy')\n",
    "normals = np.load(mesh_dir + 'normals.npy')"
   ]
  },
  {
   "cell_type": "code",
   "execution_count": 7,
   "id": "2d3bab1e-ae47-4ec9-955b-1b341f9c34c8",
   "metadata": {},
   "outputs": [
    {
     "data": {
      "text/plain": [
       "array([[ 2.14186178, 19.4612018 ,  9.7679398 ],\n",
       "       [ 2.1794383 , 19.4612018 ,  9.7303708 ],\n",
       "       [ 2.1794383 , 19.42363191,  9.7679398 ],\n",
       "       ...,\n",
       "       [14.84272638,  4.50838652,  9.31711181],\n",
       "       [14.84272638,  4.58352629,  9.24197381],\n",
       "       [14.84272638,  4.58352629,  9.31711181]])"
      ]
     },
     "execution_count": 7,
     "metadata": {},
     "output_type": "execute_result"
    }
   ],
   "source": [
    "vertices"
   ]
  },
  {
   "cell_type": "code",
   "execution_count": 8,
   "id": "0bf400ec-8ec1-4dd2-b4b0-521596213e61",
   "metadata": {},
   "outputs": [],
   "source": [
    "mesh = trimesh.Trimesh(vertices=vertices, faces=faces)"
   ]
  },
  {
   "cell_type": "code",
   "execution_count": 9,
   "id": "de5046a7-20c5-4237-80bc-dd9cdd67cdf1",
   "metadata": {},
   "outputs": [
    {
     "data": {
      "text/plain": [
       "<trimesh.Trimesh(vertices.shape=(164976, 3), faces.shape=(329948, 3))>"
      ]
     },
     "execution_count": 9,
     "metadata": {},
     "output_type": "execute_result"
    }
   ],
   "source": [
    "mesh"
   ]
  },
  {
   "cell_type": "code",
   "execution_count": 10,
   "id": "32af1470-4716-44b1-a29d-9afb31415212",
   "metadata": {},
   "outputs": [
    {
     "data": {
      "text/plain": [
       "True"
      ]
     },
     "execution_count": 10,
     "metadata": {},
     "output_type": "execute_result"
    }
   ],
   "source": [
    "mesh.is_watertight"
   ]
  },
  {
   "cell_type": "code",
   "execution_count": 11,
   "id": "bf3c245a-f87e-4467-ae64-70b2bc00b618",
   "metadata": {},
   "outputs": [
    {
     "data": {
      "text/plain": [
       "2"
      ]
     },
     "execution_count": 11,
     "metadata": {},
     "output_type": "execute_result"
    }
   ],
   "source": [
    "mesh.euler_number"
   ]
  },
  {
   "cell_type": "code",
   "execution_count": 12,
   "id": "0e3ee09e-214e-4e12-a533-d008fb94e769",
   "metadata": {},
   "outputs": [],
   "source": [
    "defects = trimesh.curvature.vertex_defects(mesh)"
   ]
  },
  {
   "cell_type": "code",
   "execution_count": 13,
   "id": "e1bab9c3-8589-47de-bb47-9873e15a5744",
   "metadata": {},
   "outputs": [
    {
     "data": {
      "text/plain": [
       "array([ 7.85562919e-01, -1.33226763e-14,  5.50670620e-14, ...,\n",
       "        0.00000000e+00,  2.61855363e-01,  5.23707556e-01])"
      ]
     },
     "execution_count": 13,
     "metadata": {},
     "output_type": "execute_result"
    }
   ],
   "source": [
    "defects"
   ]
  },
  {
   "cell_type": "code",
   "execution_count": 14,
   "id": "efd040f7-83d3-4c43-a2b5-a0051f244039",
   "metadata": {},
   "outputs": [],
   "source": [
    "o_d = trimesh.convex.hull_points(mesh)"
   ]
  },
  {
   "cell_type": "code",
   "execution_count": 15,
   "id": "7061f730-c700-44a4-8573-104cc27b321e",
   "metadata": {},
   "outputs": [
    {
     "data": {
      "text/plain": [
       "TrackedArray([[ 2.14186178, 19.4612018 ,  9.7679398 ],\n",
       "              [ 2.14186178, 19.53634157,  9.8430778 ],\n",
       "              [ 2.14186178, 19.68662112,  9.6176638 ],\n",
       "              ...,\n",
       "              [14.84272638,  4.50838652,  9.16683581],\n",
       "              [14.84272638,  4.58352629,  9.24197381],\n",
       "              [14.84272638,  4.58352629,  9.31711181]])"
      ]
     },
     "execution_count": 15,
     "metadata": {},
     "output_type": "execute_result"
    }
   ],
   "source": [
    "o_d"
   ]
  },
  {
   "cell_type": "code",
   "execution_count": 16,
   "id": "00553db0-9b87-4a3a-a755-55172d541b52",
   "metadata": {},
   "outputs": [],
   "source": [
    "viewer = napari.Viewer()"
   ]
  },
  {
   "cell_type": "code",
   "execution_count": 17,
   "id": "1c8c32f0-4238-4c92-8e81-90b0543fc55c",
   "metadata": {},
   "outputs": [
    {
     "name": "stderr",
     "output_type": "stream",
     "text": [
      "WARNING: DirectWrite: CreateFontFaceFromHDC() failed (Indicates an error in an input file such as a font file.) for QFontDef(Family=\"\", pointsize=12, pixelsize=16, styleHint=5, weight=50, stretch=100, hintingPreference=0) LOGFONT(\"MS Sans Serif\", lfWidth=0, lfHeight=-16) dpi=96\n"
     ]
    }
   ],
   "source": [
    "mesh_view = viewer.add_surface(\n",
    "    data = (vertices, faces, values),\n",
    ")"
   ]
  },
  {
   "cell_type": "code",
   "execution_count": null,
   "id": "2fa000ef-6dc6-47d7-944b-ad788bdc3b0e",
   "metadata": {},
   "outputs": [],
   "source": [
    "convex_points = viewer.add_points(\n",
    "    o_d,\n",
    "    size = 1,\n",
    ")"
   ]
  },
  {
   "cell_type": "code",
   "execution_count": null,
   "id": "2144c049-41d9-4c35-8e40-26378df7acf6",
   "metadata": {},
   "outputs": [],
   "source": [
    "v_z = vertices @ np.array([0,0,1])"
   ]
  },
  {
   "cell_type": "code",
   "execution_count": null,
   "id": "7d3a01dd-a036-4f1d-8f3d-f7e90a606d9d",
   "metadata": {},
   "outputs": [],
   "source": [
    "centroid = np.average(vertices, axis=0)\n",
    "centroid"
   ]
  },
  {
   "cell_type": "code",
   "execution_count": null,
   "id": "c4fd9ef9-16b3-46ef-9a3b-6fa7e8da231a",
   "metadata": {},
   "outputs": [],
   "source": [
    "p_1_i = np.argmin(v_z)\n",
    "p_1 = vertices[p_1_i]\n",
    "p_1"
   ]
  },
  {
   "cell_type": "code",
   "execution_count": null,
   "id": "a7b8423e-ff65-4bde-ac99-4edc30fa32c5",
   "metadata": {},
   "outputs": [],
   "source": [
    "n = np.array([0,0,1])"
   ]
  },
  {
   "cell_type": "code",
   "execution_count": null,
   "id": "59df14f4-fbdc-4ed2-8feb-eece91f200d2",
   "metadata": {},
   "outputs": [],
   "source": [
    "verts_c_p_1 = vertices[((vertices - centroid) @ (p_1 - centroid))/(np.linalg.norm(p_1 - centroid)) > 1] - p_1"
   ]
  },
  {
   "cell_type": "code",
   "execution_count": null,
   "id": "e366f63d-5e46-4e16-a072-a12db77dfdd6",
   "metadata": {},
   "outputs": [],
   "source": [
    "r = np.abs((verts_c_p_1) @ n) * np.linalg.norm(verts_c_p_1, axis = 1)**(-1)\n",
    "r"
   ]
  },
  {
   "cell_type": "code",
   "execution_count": null,
   "id": "2d96a8f3-3460-4b8a-b1af-a1ad37af667f",
   "metadata": {},
   "outputs": [],
   "source": [
    "p_2_i = np.argmax(r)\n",
    "if p_2_i >= p_1_i:\n",
    "    p_2_i += 1\n",
    "p_2_i"
   ]
  },
  {
   "cell_type": "code",
   "execution_count": null,
   "id": "eecf9223-aaca-4e19-9140-49bd11d876a4",
   "metadata": {},
   "outputs": [],
   "source": [
    "bottom_point = viewer.add_points(\n",
    "    p_1,\n",
    "    size = 1,\n",
    ")"
   ]
  },
  {
   "cell_type": "code",
   "execution_count": null,
   "id": "58acc43c-35ef-47e9-84b6-11c6d50c0e0c",
   "metadata": {},
   "outputs": [],
   "source": []
  }
 ],
 "metadata": {
  "kernelspec": {
   "display_name": "Python 3 (ipykernel)",
   "language": "python",
   "name": "python3"
  },
  "language_info": {
   "codemirror_mode": {
    "name": "ipython",
    "version": 3
   },
   "file_extension": ".py",
   "mimetype": "text/x-python",
   "name": "python",
   "nbconvert_exporter": "python",
   "pygments_lexer": "ipython3",
   "version": "3.11.5"
  }
 },
 "nbformat": 4,
 "nbformat_minor": 5
}
