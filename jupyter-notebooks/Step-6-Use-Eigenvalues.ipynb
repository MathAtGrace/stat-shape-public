{
 "cells": [
  {
   "cell_type": "code",
   "execution_count": null,
   "id": "a86a5f72-51af-4b7a-9ea5-4766f4b2013a",
   "metadata": {},
   "outputs": [],
   "source": [
    "import matplotlib.pyplot as plt\n",
    "import scipy as sp\n",
    "import numpy as np\n",
    "import os\n",
    "import pandas as pd\n",
    "\n",
    "from skimage import morphology, measure\n",
    "from skimage.segmentation import expand_labels, watershed, relabel_sequential\n",
    "from sklearn.preprocessing import minmax_scale\n",
    "from scipy import ndimage as ndi\n",
    "from dask_ml.cluster import KMeans\n",
    "from dask_ml.decomposition import PCA\n",
    "\n",
    "from dask_image import imread\n",
    "from dask_image import ndmeasure\n",
    "from dask_image import ndfilters\n",
    "from dask import array as da\n",
    "from dask import delayed\n",
    "from dask.distributed import Client, progress\n",
    "from colorsys import hls_to_rgb\n",
    "\n",
    "import napari"
   ]
  },
  {
   "cell_type": "code",
   "execution_count": null,
   "id": "f9c3fb23-4b81-43be-a023-616be35a9d8e",
   "metadata": {},
   "outputs": [],
   "source": [
    "client = Client(processes=False, threads_per_worker=6,\n",
    "                n_workers=1, memory_limit='12GB')\n",
    "client"
   ]
  },
  {
   "cell_type": "code",
   "execution_count": null,
   "id": "c059967c-5fc8-4900-bb49-66703c489003",
   "metadata": {},
   "outputs": [],
   "source": [
    "#Specific is the name of the folder of the orginal data\n",
    "specific = 'F231006L'\n",
    "#finger_num should be 1,2,3, or 4, corresponding to the index, middle, ring, and pinky fingers\n",
    "finger_num = 2"
   ]
  },
  {
   "cell_type": "markdown",
   "id": "9768c1ae-9e4c-4f1a-bf3e-c3d7ee55ba11",
   "metadata": {},
   "source": [
    "These are numbers you ought to adjust after you look at Napari."
   ]
  },
  {
   "cell_type": "code",
   "execution_count": null,
   "id": "1ce85188-766c-4774-84e5-2d7150e8da06",
   "metadata": {},
   "outputs": [],
   "source": [
    "bone_threshold = 300\n",
    "eig_1_threshold = 74\n",
    "eig_3_threshold = -54\n",
    "closing_radius = 18\n",
    "expand_labels_distance = 15\n",
    "close_expanded_distance = 15\n",
    "connect_num = 3"
   ]
  },
  {
   "cell_type": "code",
   "execution_count": null,
   "id": "1e028be3-a1b3-418e-8229-0e9a2daed373",
   "metadata": {},
   "outputs": [],
   "source": [
    "finger_names = {1: 'index', 2: 'middle', 3: 'ring', 4: 'pinky'}\n",
    "finger_name = finger_names[finger_num]\n",
    "digit_names = {1: 'proximal', 2: 'middle', 3: 'distal'}"
   ]
  },
  {
   "cell_type": "code",
   "execution_count": null,
   "id": "473d0dfa-a51e-476a-85ca-1aa9fcad4cf2",
   "metadata": {},
   "outputs": [],
   "source": [
    "full_finger_dir = f'../fingers/{finger_name}/full/{specific}/'\n",
    "finger_eig_dir = f'../fingers/{finger_name}/full/{specific} - eigens/'\n",
    "digit_dir = {i: f'../fingers/{finger_name}/{digit_names[i]}/{specific}/' for i in range(1,4)}\n",
    "digit_eig_dir = {i: f'../fingers/{finger_name}/{digit_names[i]}/{specific} - eigens/' for i in range(1,4)}\n",
    "temp_finger = 'temp-finger/'\n",
    "temp_eigs = 'temp-eigs'"
   ]
  },
  {
   "cell_type": "code",
   "execution_count": null,
   "id": "18a1d125-4fe0-482e-b742-e11fb09d7735",
   "metadata": {},
   "outputs": [],
   "source": [
    "all_dirs = [full_finger_dir, finger_eig_dir, temp_finger, temp_eigs] + list(digit_dir.values()) + list(digit_eig_dir.values())\n",
    "for d in all_dirs:\n",
    "    os.makedirs(d, exist_ok=True)"
   ]
  },
  {
   "cell_type": "code",
   "execution_count": null,
   "id": "b6f804be-5feb-488b-a717-ad260f96aabe",
   "metadata": {},
   "outputs": [],
   "source": [
    "spacing = np.load('../spacing/' + specific + '.npy')"
   ]
  },
  {
   "cell_type": "code",
   "execution_count": null,
   "id": "c18d34e4-6c5c-465c-b0e8-5ce22258ba3c",
   "metadata": {},
   "outputs": [],
   "source": [
    "finger = da.from_npy_stack(full_finger_dir)"
   ]
  },
  {
   "cell_type": "code",
   "execution_count": null,
   "id": "43990aae-ed77-4969-8f98-05d60947346e",
   "metadata": {},
   "outputs": [],
   "source": [
    "eigs = da.from_npy_stack(finger_eig_dir)"
   ]
  },
  {
   "cell_type": "code",
   "execution_count": null,
   "id": "40f9056f-4aa6-4ad9-8e4e-3c2fe8bf2506",
   "metadata": {},
   "outputs": [],
   "source": [
    "shape = finger.shape\n",
    "shape"
   ]
  },
  {
   "cell_type": "code",
   "execution_count": null,
   "id": "6db6b67a-4ff0-4028-b165-b9915f921219",
   "metadata": {},
   "outputs": [],
   "source": [
    "finger_2 = da.swapaxes(\n",
    "    da.rechunk(finger, chunks = (shape[0], 1, shape[2])),\n",
    "    0, 1\n",
    ")\n",
    "da.to_npy_stack(temp_finger, finger_2)"
   ]
  },
  {
   "cell_type": "code",
   "execution_count": null,
   "id": "08ae6f9e-68af-4c36-94b6-8fe0cd57b0ba",
   "metadata": {},
   "outputs": [],
   "source": [
    "finger_2 = da.from_npy_stack(temp_finger)"
   ]
  },
  {
   "cell_type": "code",
   "execution_count": null,
   "id": "46a8044e-fe44-4c06-95da-a2b61a7fd6b9",
   "metadata": {},
   "outputs": [],
   "source": [
    "#Matrix multiplication functions as the dot product of the left-rows and the right-columns\n",
    "#The trace is x [1,1,1]\n",
    "#and the differences will be x[1,-1,0] and x[0,1,-1]\n",
    "eigs_2 = da.swapaxes(\n",
    "    da.rechunk(\n",
    "        eigs,\n",
    "        chunks = (shape[0], 1, shape[2],1)\n",
    "    ), \n",
    "    0, 1\n",
    ")\n",
    "da.to_npy_stack(temp_eigs, eigs_2)"
   ]
  },
  {
   "cell_type": "code",
   "execution_count": null,
   "id": "2a163328-1b1e-4956-a5ae-eb70e9965da2",
   "metadata": {},
   "outputs": [],
   "source": [
    "eigs_2 = da.from_npy_stack(temp_eigs)"
   ]
  },
  {
   "cell_type": "code",
   "execution_count": null,
   "id": "ed32c92e-c678-471f-b8c0-2887ba1b9e44",
   "metadata": {},
   "outputs": [],
   "source": [
    "viewer = napari.Viewer()\n",
    "\n",
    "viewer.add_image(\n",
    "    finger_2,\n",
    "    scale = spacing,\n",
    ")\n",
    "\n",
    "viewer.add_image(\n",
    "    eigs_2,\n",
    "    channel_axis=3,\n",
    "    name=[\"eig 1\", \"eig 2\", \"eig 3\"],\n",
    "    colormap=[\"red\", \"green\", \"blue\"],\n",
    "    scale = spacing,\n",
    ")"
   ]
  },
  {
   "cell_type": "code",
   "execution_count": null,
   "id": "fefff4eb-f82a-4c6e-a3e3-4a0265366a14",
   "metadata": {},
   "outputs": [],
   "source": [
    "eig_1 = eigs_2[:,:,:,0]\n",
    "eig_3 = eigs_2[:,:,:,2]\n",
    "enough_bone = da.where(finger_2 > bone_threshold, 1, 0).compute()\n",
    "enough_eig_1 = da.where(eig_1 > eig_1_threshold, 1, 0).compute()\n",
    "enough_eig_3 = da.where(eig_3 < eig_3_threshold, 0, 1).compute()\n"
   ]
  },
  {
   "cell_type": "code",
   "execution_count": null,
   "id": "2ef372ee-25d6-4135-b9f1-4d5b02267f69",
   "metadata": {},
   "outputs": [],
   "source": [
    "separated = enough_bone * enough_eig_1 * enough_eig_3\n",
    "del enough_eig_1, enough_eig_3"
   ]
  },
  {
   "cell_type": "markdown",
   "id": "ede2fc17-ee9a-42e3-910d-f07cdf81869a",
   "metadata": {},
   "source": [
    "Add points here if you need to take away parts where bones touch"
   ]
  },
  {
   "cell_type": "code",
   "execution_count": null,
   "id": "f013a2dc-0e7f-4ac1-8eff-322c752f8450",
   "metadata": {},
   "outputs": [],
   "source": [
    "points = viewer.add_points(scale=spacing)"
   ]
  },
  {
   "cell_type": "code",
   "execution_count": null,
   "id": "0409b29a-8d63-441c-af2e-93b29f9e733b",
   "metadata": {},
   "outputs": [],
   "source": [
    "points.data = np.round(points.data)\n",
    "for p in points.data:\n",
    "    a,b,c = (p).astype('int16')\n",
    "    separated[a,b,c] = 0"
   ]
  },
  {
   "cell_type": "code",
   "execution_count": null,
   "id": "f9672d41-085e-4dbc-8b89-1613c427cebf",
   "metadata": {},
   "outputs": [],
   "source": [
    "viewer.add_image(\n",
    "    separated,\n",
    "    scale = spacing,\n",
    "    name = 'separated?'\n",
    ")"
   ]
  },
  {
   "cell_type": "code",
   "execution_count": null,
   "id": "53496f16-72d6-423f-96cd-4819527afc3f",
   "metadata": {},
   "outputs": [],
   "source": [
    "#This is the NumPy/Skimage way\n",
    "\n",
    "#Use the label function to get all connected components\n",
    "l_start = measure.label(separated, connectivity=connect_num)\n",
    "#Count the sizes of the labels\n",
    "counts = np.bincount(l_start.ravel())\n",
    "#The indices of the thring digits will be 2nd->proximal, 3rd->middle, 4th->distal (the biggest connected component is the outside)\n",
    "digit_indices = counts.argsort()[-2:-5:-1]\n",
    "#Create a NumPy label map sending proximal->1, middle->2, distal->3\n",
    "label_map = np.zeros(counts.shape, dtype=np.dtype('uint8'))\n",
    "for new_label, old_label in enumerate(digit_indices, start=1):\n",
    "    label_map[old_label] = new_label\n",
    "#Use the label map\n",
    "l_start_re = label_map[l_start]\n",
    "\n",
    "#This is the Dask Way\n",
    "#Incomplete because so far, individual fingers have been small enough for our computers\n",
    "#label_start, num_labels = ndmeasure.label(separated)"
   ]
  },
  {
   "cell_type": "code",
   "execution_count": null,
   "id": "21711101-ca0d-4025-b616-82b95a631018",
   "metadata": {},
   "outputs": [],
   "source": [
    "viewer.add_labels(\n",
    "    l_start_re,\n",
    "    scale = spacing,\n",
    "    name = 'labels started?'\n",
    ")"
   ]
  },
  {
   "cell_type": "code",
   "execution_count": null,
   "id": "e03b1ee1-7220-467b-97df-ceacea34e4d9",
   "metadata": {},
   "outputs": [],
   "source": [
    "proximal = l_start_re == 1\n",
    "medial = l_start_re == 2\n",
    "distal = l_start_re == 3"
   ]
  },
  {
   "cell_type": "code",
   "execution_count": null,
   "id": "d405d927-bfec-4a4a-8faa-2676e717253a",
   "metadata": {},
   "outputs": [],
   "source": [
    "del l_start, l_start_re"
   ]
  },
  {
   "cell_type": "code",
   "execution_count": null,
   "id": "a1207afe-d839-4bc9-9b59-c85ce6bacab6",
   "metadata": {},
   "outputs": [],
   "source": [
    "p_closed = morphology.closing(\n",
    "    proximal,\n",
    "    footprint = morphology.ball(\n",
    "        closing_radius,\n",
    "        decomposition = 'sequence',\n",
    "    )\n",
    ")\n",
    "m_closed = morphology.closing(\n",
    "    medial,\n",
    "    footprint = morphology.ball(\n",
    "        closing_radius,\n",
    "        decomposition = 'sequence',\n",
    "    )\n",
    ")\n",
    "d_closed = morphology.closing(\n",
    "    distal,\n",
    "    footprint = morphology.ball(\n",
    "        closing_radius,\n",
    "        decomposition = 'sequence',\n",
    "    )\n",
    ")"
   ]
  },
  {
   "cell_type": "code",
   "execution_count": null,
   "id": "662ba210-5eb4-4cfb-bab6-abc96a8d3907",
   "metadata": {},
   "outputs": [],
   "source": [
    "del distal, medial, proximal,"
   ]
  },
  {
   "cell_type": "code",
   "execution_count": null,
   "id": "114a5eaf-dda3-48e7-914e-97aedfde9914",
   "metadata": {},
   "outputs": [],
   "source": [
    "l_s_closed = p_closed + 2 * m_closed + 3 * d_closed"
   ]
  },
  {
   "cell_type": "code",
   "execution_count": null,
   "id": "d143d6b7-974e-4849-93d7-e68d3e456503",
   "metadata": {},
   "outputs": [],
   "source": [
    "del p_closed, m_closed, d_closed"
   ]
  },
  {
   "cell_type": "code",
   "execution_count": null,
   "id": "31eebd2b-5d4e-4f8f-a54c-c81e2753aeec",
   "metadata": {},
   "outputs": [],
   "source": [
    "viewer.add_labels(\n",
    "    l_s_closed,\n",
    "    scale = spacing,\n",
    "    name = 'closed starting labels',\n",
    ")"
   ]
  },
  {
   "cell_type": "code",
   "execution_count": null,
   "id": "e9a6d279-fa09-4398-b22d-a230474c964d",
   "metadata": {},
   "outputs": [],
   "source": [
    "distance = ndi.distance_transform_edt(separated)\n",
    "labels = watershed(-distance, l_s_closed, mask=enough_bone)"
   ]
  },
  {
   "cell_type": "code",
   "execution_count": null,
   "id": "0e7224ee-8f1c-44cd-b606-f322bdfbcf5b",
   "metadata": {},
   "outputs": [],
   "source": [
    "del separated, distance"
   ]
  },
  {
   "cell_type": "code",
   "execution_count": null,
   "id": "31e34d08-544e-4be9-9a9b-7af35a632e59",
   "metadata": {},
   "outputs": [],
   "source": [
    "viewer.add_labels(\n",
    "    labels,\n",
    "    scale = spacing,\n",
    "    name = 'labeled completely?'\n",
    ")"
   ]
  },
  {
   "cell_type": "code",
   "execution_count": null,
   "id": "7af836fa-d6f4-44bd-b18a-c1330dcdd311",
   "metadata": {},
   "outputs": [],
   "source": [
    "expanded = morphology.closing(\n",
    "    expand_labels(labels, distance = expand_labels_distance),\n",
    "    footprint = morphology.ball(\n",
    "        close_expanded_distance,\n",
    "        decomposition = 'sequence',\n",
    "    )\n",
    ")\n"
   ]
  },
  {
   "cell_type": "code",
   "execution_count": null,
   "id": "743df758-df2e-4284-9f38-173036689fdd",
   "metadata": {},
   "outputs": [],
   "source": [
    "del labels"
   ]
  },
  {
   "cell_type": "code",
   "execution_count": null,
   "id": "8be64b13-f319-46cd-b1e4-6fb4e76aaa69",
   "metadata": {},
   "outputs": [],
   "source": [
    "viewer.add_labels(\n",
    "    expanded,\n",
    "    scale = spacing,\n",
    "    name = 'expanded labels'\n",
    ")"
   ]
  },
  {
   "cell_type": "code",
   "execution_count": null,
   "id": "9c8434c5-429e-4130-8248-6a73037325e6",
   "metadata": {},
   "outputs": [],
   "source": [
    "for i in range(1,4):\n",
    "    sub_x, sub_y, sub_z = np.where(expanded == i)\n",
    "    \n",
    "    x_min = sub_x.min()\n",
    "    x_max = sub_x.max()\n",
    "    del sub_x\n",
    "    \n",
    "    y_min = sub_y.min()\n",
    "    y_max = sub_y.max()\n",
    "    del sub_y\n",
    "    \n",
    "    z_min = sub_z.min()\n",
    "    z_max = sub_z.max()\n",
    "    del sub_z\n",
    "    \n",
    "    subset = np.where(expanded == i, finger_2.compute(), -1000)[x_min:x_max, y_min:y_max, z_min:z_max]\n",
    "    da.to_npy_stack(digit_dir[i], subset)\n",
    "\n",
    "    sub_eigs = np.where(expanded[..., np.newaxis] == i, eigs_2.compute(), -1000)[x_min:x_max, y_min:y_max, z_min:z_max, :]\n",
    "    da.to_npy_stack(digit_eig_dir[i], sub_eigs)\n",
    "    \n",
    "    print(f'x from {x_min} to {x_max}')\n",
    "    print(f'y from {y_min} to {y_max}')\n",
    "    print(f'z from {z_min} to {z_max}')\n",
    "    #print(f'Size of digit {i} array: {size(subset.nbytes)}')\n",
    "    print('_'*20)"
   ]
  },
  {
   "cell_type": "code",
   "execution_count": null,
   "id": "7d318813-1fef-4bbf-b6d3-9e208e4893df",
   "metadata": {},
   "outputs": [],
   "source": []
  }
 ],
 "metadata": {
  "kernelspec": {
   "display_name": "Python 3 (ipykernel)",
   "language": "python",
   "name": "python3"
  },
  "language_info": {
   "codemirror_mode": {
    "name": "ipython",
    "version": 3
   },
   "file_extension": ".py",
   "mimetype": "text/x-python",
   "name": "python",
   "nbconvert_exporter": "python",
   "pygments_lexer": "ipython3",
   "version": "3.13.5"
  }
 },
 "nbformat": 4,
 "nbformat_minor": 5
}
